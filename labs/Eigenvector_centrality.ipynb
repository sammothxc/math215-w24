{
  "cells": [
    {
      "cell_type": "markdown",
      "metadata": {
        "colab_type": "text",
        "id": "view-in-github"
      },
      "source": [
        "<a href=\"https://colab.research.google.com/github/sammothxc/math215-w24/blob/main/labs/Eigenvector_centrality.ipynb\" target=\"_parent\"><img src=\"https://colab.research.google.com/assets/colab-badge.svg\" alt=\"Open In Colab\"/></a>"
      ]
    },
    {
      "cell_type": "markdown",
      "metadata": {
        "id": "qEJhOZ51lG2W"
      },
      "source": [
        "#**Lab 10 - Networks and eigenvector centrality**"
      ]
    },
    {
      "cell_type": "markdown",
      "metadata": {
        "id": "y0oQ0MWSlwfG"
      },
      "source": [
        "Enter your code in the spaces provided. Do not change any of the variable names or function names that are already provided for you. In places where we specify the name of the return value, make sure that your code produces the a value with the correct name."
      ]
    },
    {
      "cell_type": "code",
      "execution_count": null,
      "metadata": {
        "id": "-rYZn3kyGXYe"
      },
      "outputs": [],
      "source": [
        "# Do not edit this cell.\n",
        "\n",
        "LabID=\"Lab10\"\n",
        "\n",
        "try:\n",
        "  from graderHelp import ISGRADEPLOT\n",
        "except ImportError:\n",
        "  ISGRADEPLOT = True"
      ]
    },
    {
      "cell_type": "markdown",
      "metadata": {
        "id": "duxZxqozGc15"
      },
      "source": [
        "**Enter your name, section number, and BYU NetID**"
      ]
    },
    {
      "cell_type": "code",
      "execution_count": null,
      "metadata": {
        "id": "BuU-yivAGhCc"
      },
      "outputs": [],
      "source": [
        "# Enter your first and last names in between the quotation marks.\n",
        "\n",
        "first_name=\"Sam\"\n",
        "\n",
        "last_name=\"Warr\"\n",
        "\n",
        "# Enter your Math 215 section number in between the quotation marks.\n",
        "\n",
        "section_number=\"01\"\n",
        "\n",
        "# Enter your BYU NetID in between the quotation marks.  NOT YOUR BYU ID NUMBER!\n",
        "\n",
        "BYUNetID=\"warrior8\""
      ]
    },
    {
      "cell_type": "markdown",
      "metadata": {
        "id": "7ACHis0QOZQ5"
      },
      "source": [
        "**Import and visualize the data**"
      ]
    },
    {
      "cell_type": "markdown",
      "metadata": {
        "id": "BYe8HT_yOfKK"
      },
      "source": [
        "The simplest way to load the data into Colab is to first download it as a .csv file to your local computer by clicking the link\n",
        "\n",
        "https://drive.google.com/uc?export=download&id=1J8IirxuOT0vLp2jl-yIitFCqVX71XzsN\n",
        "\n",
        "This will allow you to download the data as a .csv file.  In the top left corner of this screen you should see a little file folder icon.   Selecting it opens a new window to the left of the notebook with three tabs: \"Upload\", \"Refresh\", and \"Mount Drive\". Select \"Upload\".  This should bring up a window that allows you to select the file \"Lab10webpagedata.csv\" from your local machine, which will upload the file to your notebook.  You will need to do this again if you decide to close your notebook and reopen it at a later time."
      ]
    },
    {
      "cell_type": "markdown",
      "metadata": {
        "id": "FL9B8IatO7yX"
      },
      "source": [
        "Once you've uploaded your file, convert it to a NumPy array called \"webpage_data\" by executing the following cell."
      ]
    },
    {
      "cell_type": "code",
      "execution_count": null,
      "metadata": {
        "id": "pvAw8CebO82t"
      },
      "outputs": [],
      "source": [
        "import numpy as np\n",
        "import pandas as pd\n",
        "from matplotlib import pyplot as plt\n",
        "\n",
        "df = pd.read_csv('Lab10webpagedata.csv')\n",
        "webpagedata=df.values\n",
        "webpage_data=np.array(webpagedata)"
      ]
    },
    {
      "cell_type": "markdown",
      "metadata": {
        "id": "6dSY7CcYPjQL"
      },
      "source": [
        "Execute the following cell to visualize the network."
      ]
    },
    {
      "cell_type": "code",
      "execution_count": null,
      "metadata": {
        "id": "5Bq9kRupPjfz"
      },
      "outputs": [],
      "source": [
        "import networkx as nx\n",
        "edges=[(i[0],i[1]) for i in webpagedata]\n",
        "G=nx.from_edgelist(edges)\n",
        "nx.draw(G,node_size=75)"
      ]
    },
    {
      "cell_type": "markdown",
      "metadata": {
        "id": "O_rLaE7jKxoH"
      },
      "source": [
        "**Problem 1**"
      ]
    },
    {
      "cell_type": "code",
      "execution_count": null,
      "metadata": {
        "id": "dzudpi4_l8-8"
      },
      "outputs": [],
      "source": [
        "def adj_matrix(n,edge_list):\n",
        "  # Put your code here.\n",
        "  return # Put your return value here."
      ]
    },
    {
      "cell_type": "code",
      "execution_count": null,
      "metadata": {
        "id": "pHY0rrlJnMM8"
      },
      "outputs": [],
      "source": [
        "# Use E1 to test your function.\n",
        "\n",
        "E1=np.array([[0,1],[1,4],[0,2],[0,4],[1,3],[2,0],[2,4],[3,4],[3,2],[3,2]])"
      ]
    },
    {
      "cell_type": "markdown",
      "metadata": {
        "id": "_jL7OuIYLa4Y"
      },
      "source": [
        "**Problem 2**"
      ]
    },
    {
      "cell_type": "code",
      "execution_count": null,
      "metadata": {
        "id": "iKwv9UTP2wVY"
      },
      "outputs": [],
      "source": [
        "def degree_cent(n,edge_list):\n",
        "  # Put your code here.\n",
        "  return # Put your return value here."
      ]
    },
    {
      "cell_type": "markdown",
      "metadata": {
        "id": "d5ifaZmSMHDw"
      },
      "source": [
        "**Problem 3**"
      ]
    },
    {
      "cell_type": "code",
      "execution_count": null,
      "metadata": {
        "id": "s0DwJTH32wZD"
      },
      "outputs": [],
      "source": [
        "# Save the value you obtain in Problem 3 as the variable top_indegree.\n",
        "\n",
        "top_indegree=-1"
      ]
    },
    {
      "cell_type": "markdown",
      "metadata": {
        "id": "6jMH7PXwMcuy"
      },
      "source": [
        "**Problem 4**"
      ]
    },
    {
      "cell_type": "code",
      "execution_count": null,
      "metadata": {
        "id": "IEx679YY2wb6"
      },
      "outputs": [],
      "source": [
        "def stoch_mat(A):\n",
        "  # Put your code here.\n",
        "  return # Put your return value here."
      ]
    },
    {
      "cell_type": "code",
      "execution_count": null,
      "metadata": {
        "id": "IYlV6pMgtUR8"
      },
      "outputs": [],
      "source": [
        "# Use A2 to test your function.\n",
        "\n",
        "A2= np.array([[0,1,0,0,0,0,0,0],\n",
        " [0,0,1,0,0,0,0,0],\n",
        " [1,0,0,1,0,1,1,0],\n",
        " [0,0,0,0,1,1,0,0],\n",
        " [1,0,1,0,0,0,0,0],\n",
        " [1,0,0,0,0,0,0,0],\n",
        " [0,0,0,0,0,1,0,1],\n",
        " [1,0,0,0,0,0,0,0]])"
      ]
    },
    {
      "cell_type": "markdown",
      "metadata": {
        "id": "kb9FLrTTM0sj"
      },
      "source": [
        "**Problem 5**"
      ]
    },
    {
      "cell_type": "code",
      "execution_count": null,
      "metadata": {
        "id": "szmSRQQi2wes"
      },
      "outputs": [],
      "source": [
        "def stoch_eig(P,k):\n",
        "  # Put your code here.\n",
        "  return # Put your return value here."
      ]
    },
    {
      "cell_type": "markdown",
      "metadata": {
        "id": "5WB-yTRsNKib"
      },
      "source": [
        "**Problem 6**"
      ]
    },
    {
      "cell_type": "code",
      "execution_count": null,
      "metadata": {
        "id": "MmdpSsYQ2whe"
      },
      "outputs": [],
      "source": [
        "def PageRank_cent(n,edge_list,k):\n",
        "  # Put your code here.\n",
        "  return # Put your return value here."
      ]
    },
    {
      "cell_type": "markdown",
      "metadata": {
        "id": "1AoEo5z6Ne0z"
      },
      "source": [
        "**Problem 7**"
      ]
    },
    {
      "cell_type": "code",
      "execution_count": null,
      "metadata": {
        "id": "d58LBX-n2wkf"
      },
      "outputs": [],
      "source": [
        "# Save the value you obtain in Problem 7 as the variable top_PageRank.\n",
        "\n",
        "top_PageRank=-1"
      ]
    },
    {
      "cell_type": "markdown",
      "metadata": {
        "id": "bAO57Q_PGt-R"
      },
      "source": [
        "**STOP!  BEFORE YOU SUBMIT THIS LAB:**  Go to the \"Runtime\" menu at the top of this page, and select \"Restart and run all\".  If any of the cells produce error messages, you will either need to fix the error(s) or delete the code that is causing the error(s).  Then use \"Restart and run all\" again to see if there are any new errors.  Repeat this until no new error messages show up.   "
      ]
    },
    {
      "cell_type": "markdown",
      "metadata": {
        "id": "CG2Gju8CGxZU"
      },
      "source": [
        "**You are not ready to submit until you are able to select \"Restart and run all\" without any new error messages showing up.  Your code will not be able to be graded if there are any error messages.**"
      ]
    },
    {
      "cell_type": "markdown",
      "metadata": {
        "id": "t4w72GvzheHB"
      },
      "source": [
        "To submit your lab for grading you must first download it to your compute as .py file. In the \"File\" menu select \"Download .py\". The resulting file can then be uploaded to [gradescope.com](https://gradescope.com) for grading."
      ]
    }
  ],
  "metadata": {
    "colab": {
      "include_colab_link": true,
      "provenance": []
    },
    "kernelspec": {
      "display_name": "Python 3",
      "name": "python3"
    }
  },
  "nbformat": 4,
  "nbformat_minor": 0
}
