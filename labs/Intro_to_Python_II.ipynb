{
  "nbformat": 4,
  "nbformat_minor": 0,
  "metadata": {
    "colab": {
      "provenance": [],
      "include_colab_link": true
    },
    "kernelspec": {
      "name": "python3",
      "display_name": "Python 3"
    }
  },
  "cells": [
    {
      "cell_type": "markdown",
      "metadata": {
        "id": "view-in-github",
        "colab_type": "text"
      },
      "source": [
        "<a href=\"https://colab.research.google.com/github/sammothxc/math215-w24/blob/main/Intro_to_Python_II.ipynb\" target=\"_parent\"><img src=\"https://colab.research.google.com/assets/colab-badge.svg\" alt=\"Open In Colab\"/></a>"
      ]
    },
    {
      "cell_type": "markdown",
      "metadata": {
        "id": "685r5AWPa9Xe"
      },
      "source": [
        "# **Lab 2 - Introduction to Python programming II**"
      ]
    },
    {
      "cell_type": "markdown",
      "metadata": {
        "id": "V-qYB1txmmzK"
      },
      "source": [
        "Enter your code in the spaces provided. Do not change any of the variable names or function names that are already provided for you. In places where we specify the name of the return value, make sure that your code produces the a value with the correct name."
      ]
    },
    {
      "cell_type": "code",
      "metadata": {
        "id": "Gn91PfqIdio9"
      },
      "source": [
        "# Do not edit this cell.\n",
        "\n",
        "LabID=\"Lab2\"\n",
        "\n",
        "try:\n",
        "  from graderHelp import ISGRADEPLOT\n",
        "except ImportError:\n",
        "  ISGRADEPLOT = True"
      ],
      "execution_count": 72,
      "outputs": []
    },
    {
      "cell_type": "markdown",
      "metadata": {
        "id": "QxyApY1lbIyA"
      },
      "source": [
        "**Enter your name, section number, and BYU NetID**"
      ]
    },
    {
      "cell_type": "code",
      "metadata": {
        "id": "Y4Ga6wzLbG-K"
      },
      "source": [
        "# Enter your first and last names in between the quotation marks.\n",
        "\n",
        "first_name=\"Sam\"\n",
        "\n",
        "last_name=\"Warr\"\n",
        "\n",
        "# Enter your Math 215 section number in between the quotation marks.\n",
        "\n",
        "section_number=\"01\"\n",
        "\n",
        "# Enter your BYU NetID in between the quotation marks.  NOT YOUR BYU ID NUMBER!\n",
        "\n",
        "BYUNetID=\"warrior8\""
      ],
      "execution_count": 73,
      "outputs": []
    },
    {
      "cell_type": "markdown",
      "metadata": {
        "id": "NCF4YDbeblKI"
      },
      "source": [
        "**Problem 1**"
      ]
    },
    {
      "cell_type": "code",
      "metadata": {
        "id": "ZJJu3xyWb2OG"
      },
      "source": [
        "first_elem=1   # Replace the value of 0 with the number described in Problem 1."
      ],
      "execution_count": 74,
      "outputs": []
    },
    {
      "cell_type": "markdown",
      "metadata": {
        "id": "g3Hq1OYZfq5B"
      },
      "source": [
        "**Problem 2**"
      ]
    },
    {
      "cell_type": "code",
      "metadata": {
        "id": "mqfH8cBsfs1e",
        "colab": {
          "base_uri": "https://localhost:8080/"
        },
        "outputId": "e54dddc5-c273-4dba-c8cf-6c0ba2de66b3"
      },
      "source": [
        "def sum_list(L):\n",
        "  sum = 0\n",
        "  for i in range(len(L)):\n",
        "    sum += L[i]\n",
        "  return sum # Put your return value here.\n",
        "print(sum_list([1,3,7,-13]))"
      ],
      "execution_count": 75,
      "outputs": [
        {
          "output_type": "stream",
          "name": "stdout",
          "text": [
            "-2\n"
          ]
        }
      ]
    },
    {
      "cell_type": "markdown",
      "metadata": {
        "id": "qrKdBbfFgpOU"
      },
      "source": [
        "**Problem 3**"
      ]
    },
    {
      "cell_type": "code",
      "metadata": {
        "id": "84RmxbZmgTX-",
        "colab": {
          "base_uri": "https://localhost:8080/"
        },
        "outputId": "d379cf9d-4801-4ca5-9fd1-43a5ac4890da"
      },
      "source": [
        "def list_relu(L):\n",
        "  new_list=L.copy()  # Remember to create a copy of your list.  After this lab you'll need to remember to do it on your own.\n",
        "  for i in range(len(new_list)):\n",
        "    if new_list[i] < 0:\n",
        "      new_list[i] = 0\n",
        "  return new_list # Put your return value here.\n",
        "print(list_relu([1,-2,17,-3.2,-15]))"
      ],
      "execution_count": 76,
      "outputs": [
        {
          "output_type": "stream",
          "name": "stdout",
          "text": [
            "[1, 0, 17, 0, 0]\n"
          ]
        }
      ]
    },
    {
      "cell_type": "markdown",
      "metadata": {
        "id": "vAPEAMw_iGlF"
      },
      "source": [
        "**Problem 4**"
      ]
    },
    {
      "cell_type": "code",
      "metadata": {
        "id": "g7Tm-N35qY5O"
      },
      "source": [
        "import numpy as np  # Importing NumPy"
      ],
      "execution_count": 77,
      "outputs": []
    },
    {
      "cell_type": "code",
      "metadata": {
        "id": "GSJqyHzriHyM"
      },
      "source": [
        "my_var=(np.exp(5)-np.log(np.sqrt(5)))/np.exp(np.cos(3))   # Replace the value of 0 with the required value from Problem 4."
      ],
      "execution_count": 78,
      "outputs": []
    },
    {
      "cell_type": "markdown",
      "metadata": {
        "id": "H1pF-iahkVSF"
      },
      "source": [
        "**Problem 5**"
      ]
    },
    {
      "cell_type": "code",
      "metadata": {
        "id": "8nJnVRG5kTr8"
      },
      "source": [
        "\n",
        "v=np.array([1,3,-2,4,5])\n",
        "u=np.array([1,1,-2,1,1])\n",
        "w=np.array([1,0,1,0,1])\n",
        "my_vect_var=(((np.dot(u,v))/(np.dot(u,u)))*u)+(((np.dot(v,w))/(np.dot(w,w)))*w)"
      ],
      "execution_count": 88,
      "outputs": []
    },
    {
      "cell_type": "markdown",
      "metadata": {
        "id": "re7RuJoFlzOF"
      },
      "source": [
        "**Problem 6**"
      ]
    },
    {
      "cell_type": "code",
      "metadata": {
        "id": "yEVLhVbjkbDo"
      },
      "source": [
        "def first_rpt(M):\n",
        "  new_matrix=M.copy()  # Remember to create a copy of your matrix.  After this lab you'll need to remember to do it on your own.\n",
        "  for i in range(1,new_matrix.shape[0]):\n",
        "    for j in range(new_matrix.shape[1]):\n",
        "      new_matrix[i,j]=new_matrix[0,j]\n",
        "  return new_matrix"
      ],
      "execution_count": 80,
      "outputs": []
    },
    {
      "cell_type": "markdown",
      "metadata": {
        "id": "EipWzzRll93V"
      },
      "source": [
        "**Problem 7**"
      ]
    },
    {
      "cell_type": "code",
      "metadata": {
        "id": "WkBLvjjCl80O"
      },
      "source": [
        "def matrix_sum(M):\n",
        "  sum=0\n",
        "  for i in range(len(M)):\n",
        "    for j in range(len(M[0,:])):\n",
        "      sum += M[i,j]\n",
        "  return sum"
      ],
      "execution_count": 81,
      "outputs": []
    },
    {
      "cell_type": "markdown",
      "metadata": {
        "id": "RWju9gIhmQ5F"
      },
      "source": [
        "**Problem 8**"
      ]
    },
    {
      "cell_type": "code",
      "metadata": {
        "id": "SPpsjK27mQKJ"
      },
      "source": [
        "long_list=[np.power(0.5,i) for i in range(1,101)]   # Replace the value of 0 with the required list from Problem 8."
      ],
      "execution_count": 82,
      "outputs": []
    },
    {
      "cell_type": "markdown",
      "metadata": {
        "id": "50kkHPD4o_ga"
      },
      "source": [
        "**Problem 9**"
      ]
    },
    {
      "cell_type": "code",
      "metadata": {
        "id": "lSrlFYZIo_DF"
      },
      "source": [
        "very_long_list=[f**i for i in range(1,100) for f in range(1,4)]   # Replace the value of 0 with the required list from Problem 9."
      ],
      "execution_count": 83,
      "outputs": []
    },
    {
      "cell_type": "markdown",
      "metadata": {
        "id": "zrBhGZMmVIcv"
      },
      "source": [
        "**STOP!  BEFORE YOU SUBMIT THIS LAB:**  Go to the \"Runtime\" menu at the top of this page, and select \"Restart and run all\".  If any of the cells produce error messages, you will either need to fix the error(s) or delete the code that is causing the error(s).  Then use \"Restart and run all\" again to see if there are any new errors.  Repeat this until no new error messages show up.  "
      ]
    },
    {
      "cell_type": "markdown",
      "metadata": {
        "id": "wI-gv66GVJ3X"
      },
      "source": [
        "**You are not ready to submit until you are able to select \"Restart and run all\" without any new error messages showing up.  Your code will not be able to be graded if there are any error messages.**"
      ]
    },
    {
      "cell_type": "markdown",
      "metadata": {
        "id": "nM-hGrpATAv4"
      },
      "source": [
        "To submit your lab for grading you must first download it to your compute as .py file. In the \"File\" menu select \"Download .py\". The resulting file can then be uploaded to http://www.math.byu.edu:30000 for grading."
      ]
    }
  ]
}