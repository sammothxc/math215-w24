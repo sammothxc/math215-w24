{
  "cells": [
    {
      "cell_type": "markdown",
      "metadata": {
        "colab_type": "text",
        "id": "view-in-github"
      },
      "source": [
        "<a href=\"https://colab.research.google.com/github/sammothxc/math215-w24/blob/main/labs/Least_squares_II.ipynb\" target=\"_parent\"><img src=\"https://colab.research.google.com/assets/colab-badge.svg\" alt=\"Open In Colab\"/></a>"
      ]
    },
    {
      "cell_type": "markdown",
      "metadata": {
        "id": "qEJhOZ51lG2W"
      },
      "source": [
        "#**Lab 7 - Least squares II**"
      ]
    },
    {
      "cell_type": "markdown",
      "metadata": {
        "id": "y0oQ0MWSlwfG"
      },
      "source": [
        "Enter your code in the spaces provided. Do not change any of the variable names or function names that are already provided for you. In places where we specify the name of the return value, make sure that your code produces the a value with the correct name."
      ]
    },
    {
      "cell_type": "code",
      "execution_count": 157,
      "metadata": {
        "id": "-rYZn3kyGXYe"
      },
      "outputs": [],
      "source": [
        "# Do not edit this cell.\n",
        "\n",
        "LabID=\"Lab7\"\n",
        "\n",
        "try:\n",
        "  from graderHelp import ISGRADEPLOT\n",
        "except ImportError:\n",
        "  ISGRADEPLOT = True"
      ]
    },
    {
      "cell_type": "markdown",
      "metadata": {
        "id": "duxZxqozGc15"
      },
      "source": [
        "**Enter your name, section number, and BYU NetID**"
      ]
    },
    {
      "cell_type": "code",
      "execution_count": 158,
      "metadata": {
        "id": "BuU-yivAGhCc"
      },
      "outputs": [],
      "source": [
        "# Enter your first and last names in between the quotation marks.\n",
        "\n",
        "first_name=\"Sam\"\n",
        "\n",
        "last_name=\"Warr\"\n",
        "\n",
        "# Enter your Math 215 section number in between the quotation marks.\n",
        "\n",
        "section_number=\"01\"\n",
        "\n",
        "# Enter your BYU NetID in between the quotation marks.  NOT YOUR BYU ID NUMBER!\n",
        "\n",
        "BYUNetID=\"warrior8\""
      ]
    },
    {
      "cell_type": "markdown",
      "metadata": {
        "id": "Hn2V1YPPSeV8"
      },
      "source": [
        "**Import the data set**"
      ]
    },
    {
      "cell_type": "markdown",
      "metadata": {
        "id": "ulLrk9LIYYjE"
      },
      "source": [
        "The simplest way to load the data into Colab is to first download it as a .csv file to your local computer by clicking the link\n",
        "\n",
        "https://drive.google.com/uc?export=download&id=1iFTaBmnv1X66BO9cV_RP7OxvUr9dNJ-l\n",
        "\n",
        "This will allow you to download the data as a .csv file.  In the top left corner of this screen you should see a little file folder icon.  Selecting it opens a new window to the left of the notebook with three tabs: \"Upload\", \"Refresh\", and \"Mount Drive\".  Select \"Upload\". This should bring up a window that allows you to select the file \"Lab7data\" from your local machine, which will upload the file to your notebook. You will need to do this again if you decide to close your notebook and reopen it at a later time."
      ]
    },
    {
      "cell_type": "markdown",
      "metadata": {
        "id": "hnYh-rFvZ1c0"
      },
      "source": [
        "Once you've uploaded your file, convert it to a NumPy array called \"signal_data\" by executing the following cell."
      ]
    },
    {
      "cell_type": "code",
      "execution_count": 159,
      "metadata": {
        "colab": {
          "base_uri": "https://localhost:8080/"
        },
        "id": "-rvSM9MIXZSS",
        "outputId": "72fd56a6-0e9a-46e1-ac51-839085980ad6"
      },
      "outputs": [
        {
          "data": {
            "text/plain": [
              "array([[0.        , 0.42908643],\n",
              "       [0.01      , 0.4541735 ],\n",
              "       [0.02      , 0.43351901],\n",
              "       ...,\n",
              "       [6.26      , 0.4964696 ],\n",
              "       [6.27      , 0.5578126 ],\n",
              "       [6.28      , 0.46953165]])"
            ]
          },
          "execution_count": 159,
          "metadata": {},
          "output_type": "execute_result"
        }
      ],
      "source": [
        "import numpy as np\n",
        "import pandas as pd\n",
        "\n",
        "df = pd.read_csv('Lab7data.csv')\n",
        "signal_data=df.values\n",
        "signal_data"
      ]
    },
    {
      "cell_type": "markdown",
      "metadata": {
        "id": "O_rLaE7jKxoH"
      },
      "source": [
        "**Problem 1**"
      ]
    },
    {
      "cell_type": "code",
      "execution_count": 160,
      "metadata": {
        "id": "dzudpi4_l8-8"
      },
      "outputs": [],
      "source": [
        "T=signal_data[:, 0].copy()            # Replace the value of 0 with the NumPy vector that contains all of the time values in the array signal_data (the first column).\n",
        "\n",
        "Y=signal_data[:, 1].copy()           # Replace the value of 0 with the NumPy vector that contains all of the signal amplitude values in the array signal_data (the second column)."
      ]
    },
    {
      "cell_type": "code",
      "execution_count": 161,
      "metadata": {
        "id": "8g3cI5DAy38j"
      },
      "outputs": [],
      "source": [
        "import matplotlib.pyplot as plt\n",
        "\n",
        "# Create the plot here of the data in the vectors T and Y."
      ]
    },
    {
      "cell_type": "markdown",
      "metadata": {
        "id": "_jL7OuIYLa4Y"
      },
      "source": [
        "**Problem 2**"
      ]
    },
    {
      "cell_type": "code",
      "execution_count": 162,
      "metadata": {
        "id": "iKwv9UTP2wVY"
      },
      "outputs": [
        {
          "name": "stdout",
          "output_type": "stream",
          "text": [
            "[1, -0.4161468365471424, 0.9092974268256817, -0.6536436208636119, -0.7568024953079282, 0.960170286650366, -0.27941549819892586, -0.14550003380861354, 0.9893582466233818, -0.8390715290764524, -0.5440211108893698]\n"
          ]
        }
      ],
      "source": [
        "# This function returns the row [1,cos(t),sin(t), cos(2*t), sin(2*t) , ... , cos(n*t), sin(n*t)] of our matrix X.\n",
        "\n",
        "def row_func(t,n):\n",
        "  #L = [n]\n",
        "  #for i in range(1, n-3):\n",
        "  #  L[i] = [np.cos(t)]\n",
        "  #  i += 1\n",
        "  #  L[i] = [np.sin(t)]\n",
        "  L = [func(k*t) for k in range(1, n+1) for func in [np.cos, np.sin]]\n",
        "  L.insert(0, 1)\n",
        "  return L  # Put your return value here.\n",
        "result = row_func(2, 5)\n",
        "print(result)"
      ]
    },
    {
      "cell_type": "markdown",
      "metadata": {
        "id": "d5ifaZmSMHDw"
      },
      "source": [
        "**Problem 3**"
      ]
    },
    {
      "cell_type": "code",
      "execution_count": 163,
      "metadata": {
        "id": "s0DwJTH32wZD"
      },
      "outputs": [
        {
          "name": "stdout",
          "output_type": "stream",
          "text": [
            "[ 1.          0.54030231  0.84147098 -0.41614684  0.90929743 -0.9899925\n",
            "  0.14112001 -0.65364362 -0.7568025 ]\n"
          ]
        }
      ],
      "source": [
        "# This function returns the matrix X, which we call the design matrix.\n",
        "\n",
        "def design_matrix(n):\n",
        "  # Put your code here.\n",
        "  matrix = [row_func(t, n) for t in T]\n",
        "  return np.array(matrix) # Put your return value here.\n",
        "result = design_matrix(4)[100,:]\n",
        "print(result)\n"
      ]
    },
    {
      "cell_type": "markdown",
      "metadata": {
        "id": "6jMH7PXwMcuy"
      },
      "source": [
        "**Problem 4**"
      ]
    },
    {
      "cell_type": "code",
      "execution_count": 164,
      "metadata": {
        "id": "IEx679YY2wb6"
      },
      "outputs": [],
      "source": [
        "X2 = design_matrix(2)    # Replace the value of 0 with the NumPy array that is returned from the function call design_matrix(2)."
      ]
    },
    {
      "cell_type": "markdown",
      "metadata": {
        "id": "kb9FLrTTM0sj"
      },
      "source": [
        "**Problem 5**"
      ]
    },
    {
      "cell_type": "code",
      "execution_count": 165,
      "metadata": {
        "id": "szmSRQQi2wes"
      },
      "outputs": [],
      "source": [
        "# Replace all of the 0 values with the NumPy matrices and vectors requested in Problem 5.\n",
        "\n",
        "normal_coef2=np.dot(X2.T, X2)\n",
        "\n",
        "normal_vect2=np.dot(X2.T, Y)\n",
        "\n",
        "beta2=np.linalg.solve(normal_coef2, normal_vect2)"
      ]
    },
    {
      "cell_type": "markdown",
      "metadata": {
        "id": "5WB-yTRsNKib"
      },
      "source": [
        "**Problem 6**"
      ]
    },
    {
      "cell_type": "code",
      "execution_count": 166,
      "metadata": {
        "id": "MmdpSsYQ2whe"
      },
      "outputs": [
        {
          "name": "stdout",
          "output_type": "stream",
          "text": [
            "0.6089782426454243\n"
          ]
        }
      ],
      "source": [
        "# This is our function which approximates the signal strength when n=2.\n",
        "\n",
        "def f2(t):\n",
        "  # Put your code here.\n",
        "  row_vector = np.array(row_func(t, 2))\n",
        "  return np.dot(beta2, row_vector) # Put your return value here.\n",
        "print(f2(0.75))"
      ]
    },
    {
      "cell_type": "markdown",
      "metadata": {
        "id": "1AoEo5z6Ne0z"
      },
      "source": [
        "**Problem 7**"
      ]
    },
    {
      "cell_type": "code",
      "execution_count": 167,
      "metadata": {
        "id": "d58LBX-n2wkf"
      },
      "outputs": [
        {
          "data": {
            "image/png": "[encoded data removed]",
            "text/plain": [
              "<Figure size 640x480 with 1 Axes>"
            ]
          },
          "metadata": {},
          "output_type": "display_data"
        }
      ],
      "source": [
        "# Create your plot here.\n",
        "vf2=np.vectorize(f2)    # This creates a new function, vf2, which is\n",
        "                        # the same as f2 except for the fact that is\n",
        "                        # can take a NumPy array as input, instead of\n",
        "                        # individual values.\n",
        "\n",
        "plt.plot(T,Y,'r.')      # Creating the plot of the data points in Y\n",
        "                        # using small red dots.\n",
        "\n",
        "plt.plot(T,vf2(T),'b-') # Creating the plot of the function f2 with a\n",
        "                        # blue line. Here we use the function vf2\n",
        "                        # instead of f2, since we are plugging in a\n",
        "                        # NumPy array T.\n",
        "\n",
        "plt.show()              # Display the plots.\n"
      ]
    },
    {
      "cell_type": "markdown",
      "metadata": {
        "id": "5-V1WD9UNmZl"
      },
      "source": [
        "**Problem 8**"
      ]
    },
    {
      "cell_type": "code",
      "execution_count": 168,
      "metadata": {
        "id": "6GA_8AAF2wnY"
      },
      "outputs": [],
      "source": [
        "MSE2=(np.linalg.norm((np.dot(X2, beta2)) - Y)**2) / len(Y)    # Replace the 0 value with the mean square error you compute in Problem 8."
      ]
    },
    {
      "cell_type": "markdown",
      "metadata": {
        "id": "8LFlkszMN4nq"
      },
      "source": [
        "**Problem 9**"
      ]
    },
    {
      "cell_type": "code",
      "execution_count": 169,
      "metadata": {
        "id": "Zy6SewX02wqp"
      },
      "outputs": [],
      "source": [
        "# Replace the 0 values with the values requested in Problem 9.  Remember to copy the decimal values from your practice notebook, not the formulas you used to compute them.\n",
        "X10 = design_matrix(10)\n",
        "normal_coef10 = np.dot(X10.T, X10)\n",
        "normal_vector10 = np.dot(X10.T, Y)\n",
        "beta10 = np.linalg.solve(normal_coef10, normal_vector10)\n",
        "MSE10=np.linalg.norm(np.dot(X10, beta10) - Y)**2 / len(Y)\n",
        "\n",
        "def f10(t):\n",
        "    return np.dot(beta10, row_func(t, 10))\n",
        "\n",
        "pred10=f10(0.105)"
      ]
    },
    {
      "cell_type": "markdown",
      "metadata": {
        "id": "5KJ4X0qgmW52"
      },
      "source": [
        "**Problem 10**"
      ]
    },
    {
      "cell_type": "code",
      "execution_count": 170,
      "metadata": {
        "id": "cUMtfns0mWCc"
      },
      "outputs": [],
      "source": [
        "# Replace the 0 values with the values requested in Problem 10.  Remember to copy the decimal values from your practice notebook, not the formulas you used to compute them.\n",
        "X100 = design_matrix(100)\n",
        "normal_coef100 = np.dot(X100.T, X100)\n",
        "normal_vector100 = np.dot(X100.T, Y)\n",
        "beta100 = np.linalg.solve(normal_coef100, normal_vector100)\n",
        "MSE100=np.linalg.norm(np.dot(X100, beta100) - Y)**2 / len(Y)\n",
        "\n",
        "def f100(t):\n",
        "    return np.dot(beta100, row_func(t, 100))\n",
        "\n",
        "pred100=f100(0.105)"
      ]
    },
    {
      "cell_type": "markdown",
      "metadata": {
        "id": "3gFdGK5_m_iw"
      },
      "source": [
        "**Problem 11**"
      ]
    },
    {
      "cell_type": "code",
      "execution_count": 171,
      "metadata": {
        "id": "g3ggF7gxDzAp"
      },
      "outputs": [],
      "source": [
        "# Replace the 0 values with the values requested in Problem 11.  Remember to copy the decimal values from your practice notebook, not the formulas you used to compute them.\n",
        "X1000 = design_matrix(1000)\n",
        "normal_coef1000 = np.dot(X1000.T, X1000)\n",
        "normal_vector1000 = np.dot(X1000.T, Y)\n",
        "beta1000 = np.linalg.solve(normal_coef1000, normal_vector1000)\n",
        "MSE1000=np.linalg.norm(np.dot(X1000, beta1000) - Y)**2 / len(Y)\n",
        "\n",
        "def f1000(t):\n",
        "    return np.dot(beta1000, row_func(t, 1000))\n",
        "\n",
        "pred1000=f1000(0.105)"
      ]
    },
    {
      "cell_type": "markdown",
      "metadata": {
        "id": "bAO57Q_PGt-R"
      },
      "source": [
        "**STOP!  BEFORE YOU SUBMIT THIS LAB:**  Go to the \"Runtime\" menu at the top of this page, and select \"Restart and run all\".  If any of the cells produce error messages, you will either need to fix the error(s) or delete the code that is causing the error(s).  Then use \"Restart and run all\" again to see if there are any new errors.  Repeat this until no new error messages show up.   "
      ]
    },
    {
      "cell_type": "markdown",
      "metadata": {
        "id": "CG2Gju8CGxZU"
      },
      "source": [
        "**You are not ready to submit until you are able to select \"Restart and run all\" without any new error messages showing up.  Your code will not be able to be graded if there are any error messages.**"
      ]
    },
    {
      "cell_type": "markdown",
      "metadata": {
        "id": "KmCDBD_QoPLh"
      },
      "source": [
        "To submit your lab for grading you must first download it to your compute as .py file. In the \"File\" menu select \"Download .py\". The resulting file can then be uploaded to [gradescope.com](https://gradescope.com) for grading."
      ]
    }
  ],
  "metadata": {
    "colab": {
      "include_colab_link": true,
      "provenance": []
    },
    "kernelspec": {
      "display_name": "Python 3",
      "name": "python3"
    },
    "language_info": {
      "codemirror_mode": {
        "name": "ipython",
        "version": 3
      },
      "file_extension": ".py",
      "mimetype": "text/x-python",
      "name": "python",
      "nbconvert_exporter": "python",
      "pygments_lexer": "ipython3",
      "version": "3.10.12"
    }
  },
  "nbformat": 4,
  "nbformat_minor": 0
}
