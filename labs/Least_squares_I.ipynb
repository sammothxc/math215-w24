{
  "cells": [
    {
      "cell_type": "markdown",
      "metadata": {
        "colab_type": "text",
        "id": "view-in-github"
      },
      "source": [
        "<a href=\"https://colab.research.google.com/github/sammothxc/math215-w24/blob/main/labs/Least_squares_I.ipynb\" target=\"_parent\"><img src=\"https://colab.research.google.com/assets/colab-badge.svg\" alt=\"Open In Colab\"/></a>"
      ]
    },
    {
      "cell_type": "markdown",
      "metadata": {
        "id": "qEJhOZ51lG2W"
      },
      "source": [
        "#**Lab 6 - Least squares I**"
      ]
    },
    {
      "cell_type": "markdown",
      "metadata": {
        "id": "y0oQ0MWSlwfG"
      },
      "source": [
        "Enter your code in the spaces provided. Do not change any of the variable names or function names that are already provided for you. In places where we specify the name of the return value, make sure that your code produces the a value with the correct name."
      ]
    },
    {
      "cell_type": "code",
      "execution_count": 4,
      "metadata": {
        "id": "2Nrp1zcbaqGM"
      },
      "outputs": [],
      "source": [
        "# Do not edit this cell.\n",
        "\n",
        "LabID=\"Lab6\"\n",
        "\n",
        "try:\n",
        "  from graderHelp import ISGRADEPLOT\n",
        "except ImportError:\n",
        "  ISGRADEPLOT = True"
      ]
    },
    {
      "cell_type": "markdown",
      "metadata": {
        "id": "CGHZ14CWl0sS"
      },
      "source": [
        "**Enter your name, section number, and BYU NetID**"
      ]
    },
    {
      "cell_type": "code",
      "execution_count": 5,
      "metadata": {
        "id": "knzMO488lOPx"
      },
      "outputs": [],
      "source": [
        "# Enter your first and last names in between the quotation marks.\n",
        "\n",
        "first_name=\"Sam\"\n",
        "\n",
        "last_name=\"Warr\"\n",
        "\n",
        "# Enter your Math 215 section number in between the quotation marks.\n",
        "\n",
        "section_number=\"01\"\n",
        "\n",
        "# Enter your BYU NetID in between the quotation marks.  NOT YOUR BYU ID NUMBER!\n",
        "\n",
        "BYUNetID=\"warrior8\""
      ]
    },
    {
      "cell_type": "markdown",
      "metadata": {
        "id": "Y8-Gu3xdn16v"
      },
      "source": [
        "**Import NumPy**"
      ]
    },
    {
      "cell_type": "code",
      "execution_count": 6,
      "metadata": {
        "id": "aQaOsNh2nq7s"
      },
      "outputs": [
        {
          "ename": "ModuleNotFoundError",
          "evalue": "No module named 'numpy'",
          "output_type": "error",
          "traceback": [
            "\u001b[0;31m---------------------------------------------------------------------------\u001b[0m",
            "\u001b[0;31mModuleNotFoundError\u001b[0m                       Traceback (most recent call last)",
            "Cell \u001b[0;32mIn[6], line 1\u001b[0m\n\u001b[0;32m----> 1\u001b[0m \u001b[38;5;28;01mimport\u001b[39;00m \u001b[38;5;21;01mnumpy\u001b[39;00m \u001b[38;5;28;01mas\u001b[39;00m \u001b[38;5;21;01mnp\u001b[39;00m\n",
            "\u001b[0;31mModuleNotFoundError\u001b[0m: No module named 'numpy'"
          ]
        }
      ],
      "source": [
        "import numpy as np"
      ]
    },
    {
      "cell_type": "markdown",
      "metadata": {
        "id": "8TbgwXGZmETs"
      },
      "source": [
        "**Problem 1**"
      ]
    },
    {
      "cell_type": "code",
      "execution_count": null,
      "metadata": {
        "id": "dzudpi4_l8-8"
      },
      "outputs": [],
      "source": [
        "# Replace the values of 0 with the NumPy arrays from Problem 1.\n",
        "\n",
        "X1=np.array([[1,5],[1,10],[1,15],[1,20],[1,25],[1,30],[1,35],[1,40],[1,45],[1,50]])\n",
        "\n",
        "Y1=np.array([3.33,4.43,4.39,5.23,5.67,6.06,7.01,7.16,8.03,8.78])"
      ]
    },
    {
      "cell_type": "markdown",
      "metadata": {
        "id": "5KJ4X0qgmW52"
      },
      "source": [
        "**Problem 2**"
      ]
    },
    {
      "cell_type": "code",
      "execution_count": null,
      "metadata": {
        "id": "cUMtfns0mWCc"
      },
      "outputs": [],
      "source": [
        "# Replace the values of 0 with the normal equation coefficient matrix and normal equation right-hand side respectively from Problem 2.\n",
        "\n",
        "normal_coef1=np.matmul(np.transpose(X1),X1)\n",
        "\n",
        "normal_vect1=np.matmul(np.transpose(X1),Y1)"
      ]
    },
    {
      "cell_type": "markdown",
      "metadata": {
        "id": "3gFdGK5_m_iw"
      },
      "source": [
        "**Problem 3**"
      ]
    },
    {
      "cell_type": "code",
      "execution_count": null,
      "metadata": {
        "id": "dEt45tv6m6l2"
      },
      "outputs": [],
      "source": [
        "# Replace the value of 0 with the least squares solution beta1 you found in Problem 3.\n",
        "\n",
        "beta1=np.linalg.solve(normal_coef1,normal_vect1)\n",
        "print(beta1)"
      ]
    },
    {
      "cell_type": "code",
      "execution_count": null,
      "metadata": {
        "id": "g3ggF7gxDzAp"
      },
      "outputs": [],
      "source": [
        "# Define a function whose graph is the line of best fit.\n",
        "\n",
        "def ls1_line(x):\n",
        "  return beta1[0]+beta1[1]*x\n"
      ]
    },
    {
      "cell_type": "code",
      "execution_count": null,
      "metadata": {
        "id": "xUQ2XqefD2m4"
      },
      "outputs": [],
      "source": [
        "import matplotlib.pyplot as plt\n",
        "\n",
        "# Construct your plot of ls1_line and the corresponding data points here. Put all of your code to create the plots inside the function below.\n",
        "\n",
        "def create_plots1():\n",
        "  # Put all of your code to create the plots here.\n",
        "  return None"
      ]
    },
    {
      "cell_type": "code",
      "execution_count": null,
      "metadata": {
        "id": "fDqU-M4PD7X8"
      },
      "outputs": [],
      "source": [
        "# Replace the value of 0 with your prediction of the satellite's velocity at t=60.\n",
        "\n",
        "pred1=0"
      ]
    },
    {
      "cell_type": "markdown",
      "metadata": {
        "id": "GD3rR1rmngih"
      },
      "source": [
        "**Problem 4**"
      ]
    },
    {
      "cell_type": "code",
      "execution_count": null,
      "metadata": {
        "id": "Wun2LuScnf86"
      },
      "outputs": [],
      "source": [
        "# Replace the values of 0 with the NumPy arrays from Problem 4.\n",
        "\n",
        "X2=0\n",
        "\n",
        "Y2=0"
      ]
    },
    {
      "cell_type": "markdown",
      "metadata": {
        "id": "MEdhRzaVnyEk"
      },
      "source": [
        "**Problem 5**"
      ]
    },
    {
      "cell_type": "code",
      "execution_count": null,
      "metadata": {
        "id": "-alFFjs1nqIn"
      },
      "outputs": [],
      "source": [
        "# Replace the values of 0 with the normal equation coefficient matrix and normal equation right-hand side, and least squares solution from Problem 5.\n",
        "\n",
        "normal_coef2=0\n",
        "\n",
        "normal_vect2=0\n",
        "\n",
        "beta2=0"
      ]
    },
    {
      "cell_type": "markdown",
      "metadata": {
        "id": "ZIy-K2jFn6aX"
      },
      "source": [
        "**Problem 6**"
      ]
    },
    {
      "cell_type": "code",
      "execution_count": null,
      "metadata": {
        "id": "wMfWsibBn5vS"
      },
      "outputs": [],
      "source": [
        "# Define a function whose graph is the parabola of best fit.\n",
        "\n",
        "def ls2_par(x):\n",
        "  # Put your code here.\n",
        "  return # Put your return value here."
      ]
    },
    {
      "cell_type": "code",
      "execution_count": null,
      "metadata": {
        "id": "zhKaUUXHEqSy"
      },
      "outputs": [],
      "source": [
        "# Construct your plot of ls2_par and the corresponding data points here. Put all of your code to create the plots inside the function below.\n",
        "\n",
        "def create_plots2():\n",
        "  # Put all of your code to create the plots here.\n",
        "  return None"
      ]
    },
    {
      "cell_type": "code",
      "execution_count": null,
      "metadata": {
        "id": "XjjXl9JFEpwr"
      },
      "outputs": [],
      "source": [
        "# Replace the value of 0 with your prediction of the satellite's position at t=60.\n",
        "\n",
        "pred2=0"
      ]
    },
    {
      "cell_type": "markdown",
      "metadata": {
        "id": "LhCNjC6CoLgr"
      },
      "source": [
        "**Problem 7**"
      ]
    },
    {
      "cell_type": "code",
      "execution_count": null,
      "metadata": {
        "id": "zbGvfgyFoB48"
      },
      "outputs": [],
      "source": [
        "# Replace the values of 0 with the NumPy arrays from Problem 7.\n",
        "\n",
        "X3=0\n",
        "\n",
        "Y3=0"
      ]
    },
    {
      "cell_type": "code",
      "execution_count": null,
      "metadata": {
        "id": "tq0RwhhbFG48"
      },
      "outputs": [],
      "source": [
        "# Replace the values of 0 with the normal equation coefficient matrix and normal equation right-hand side from Problem 7.\n",
        "\n",
        "normal_coef3=0\n",
        "\n",
        "normal_vect3=0"
      ]
    },
    {
      "cell_type": "code",
      "execution_count": null,
      "metadata": {
        "id": "UWL7D0KEFG-a"
      },
      "outputs": [],
      "source": [
        "# Replace the value of 0 with the least squares solution from Problem 7.\n",
        "\n",
        "beta3=0"
      ]
    },
    {
      "cell_type": "markdown",
      "metadata": {
        "id": "p-USBmwsoWpQ"
      },
      "source": [
        "**Problem 8**"
      ]
    },
    {
      "cell_type": "code",
      "execution_count": null,
      "metadata": {
        "id": "x4hb9gpmoRLd"
      },
      "outputs": [],
      "source": [
        "# Replace the values of 0 with your predictions for the semi-major axes of Uranus and Neptune.\n",
        "\n",
        "pred_Uran=0\n",
        "\n",
        "pred_Nept=0"
      ]
    },
    {
      "cell_type": "markdown",
      "metadata": {
        "id": "Mk0LI_O6bi0V"
      },
      "source": [
        "**STOP!  BEFORE YOU SUBMIT THIS LAB:**  Go to the \"Runtime\" menu at the top of this page, and select \"Restart and run all\".  If any of the cells produce error messages, you will either need to fix the error(s) or delete the code that is causing the error(s).  Then use \"Restart and run all\" again to see if there are any new errors.  Repeat this until no new error messages show up.   "
      ]
    },
    {
      "cell_type": "markdown",
      "metadata": {
        "id": "UB13NobBbo3n"
      },
      "source": [
        "**You are not ready to submit until you are able to select \"Restart and run all\" without any new error messages showing up.  Your code will not be able to be graded if there are any error messages.**"
      ]
    },
    {
      "cell_type": "markdown",
      "metadata": {
        "id": "3ckZFzKgX-3k"
      },
      "source": [
        "To submit your lab for grading you must first download it to your compute as .py file. In the \"File\" menu select \"Download .py\". The resulting file can then be uploaded to [gradescope.com](https://gradescope.com) for grading."
      ]
    }
  ],
  "metadata": {
    "colab": {
      "include_colab_link": true,
      "provenance": []
    },
    "kernelspec": {
      "display_name": "Python 3",
      "name": "python3"
    },
    "language_info": {
      "codemirror_mode": {
        "name": "ipython",
        "version": 3
      },
      "file_extension": ".py",
      "mimetype": "text/x-python",
      "name": "python",
      "nbconvert_exporter": "python",
      "pygments_lexer": "ipython3",
      "version": "3.9.6"
    }
  },
  "nbformat": 4,
  "nbformat_minor": 0
}
