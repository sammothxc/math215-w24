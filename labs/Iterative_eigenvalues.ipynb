{
  "cells": [
    {
      "cell_type": "markdown",
      "metadata": {
        "colab_type": "text",
        "id": "view-in-github"
      },
      "source": [
        "<a href=\"https://colab.research.google.com/github/sammothxc/math215-w24/blob/main/labs/Iterative_eigenvalues.ipynb\" target=\"_parent\"><img src=\"https://colab.research.google.com/assets/colab-badge.svg\" alt=\"Open In Colab\"/></a>"
      ]
    },
    {
      "cell_type": "markdown",
      "metadata": {
        "id": "qEJhOZ51lG2W"
      },
      "source": [
        "#**Lab 9 - Iterative eigenvalues and Markov chains**"
      ]
    },
    {
      "cell_type": "markdown",
      "metadata": {
        "id": "y0oQ0MWSlwfG"
      },
      "source": [
        "Enter your code in the spaces provided. Do not change any of the variable names or function names that are already provided for you. In places where we specify the name of the return value, make sure that your code produces the a value with the correct name."
      ]
    },
    {
      "cell_type": "code",
      "execution_count": 1,
      "metadata": {
        "id": "-rYZn3kyGXYe"
      },
      "outputs": [],
      "source": [
        "# Do not edit this cell.\n",
        "\n",
        "LabID=\"Lab9\"\n",
        "\n",
        "try:\n",
        "  from graderHelp import ISGRADEPLOT\n",
        "except ImportError:\n",
        "  ISGRADEPLOT = True"
      ]
    },
    {
      "cell_type": "markdown",
      "metadata": {
        "id": "duxZxqozGc15"
      },
      "source": [
        "**Enter your name, section number, and BYU NetID**"
      ]
    },
    {
      "cell_type": "code",
      "execution_count": 2,
      "metadata": {
        "id": "BuU-yivAGhCc"
      },
      "outputs": [],
      "source": [
        "# Enter your first and last names in between the quotation marks.\n",
        "\n",
        "first_name=\"Sam\"\n",
        "\n",
        "last_name=\"Warr\"\n",
        "\n",
        "# Enter your Math 215 section number in between the quotation marks.\n",
        "\n",
        "section_number=\"01\"\n",
        "\n",
        "# Enter your BYU NetID in between the quotation marks.  NOT YOUR BYU ID NUMBER!\n",
        "\n",
        "BYUNetID=\"warrior8\""
      ]
    },
    {
      "cell_type": "markdown",
      "metadata": {
        "id": "6O8kWEYHoO6U"
      },
      "source": [
        "**Import NumPy**"
      ]
    },
    {
      "cell_type": "code",
      "execution_count": 3,
      "metadata": {
        "id": "qCiA9VT9oQ9T"
      },
      "outputs": [],
      "source": [
        "import numpy as np"
      ]
    },
    {
      "cell_type": "markdown",
      "metadata": {
        "id": "O_rLaE7jKxoH"
      },
      "source": [
        "**Problem 1**"
      ]
    },
    {
      "cell_type": "code",
      "execution_count": 4,
      "metadata": {
        "id": "dzudpi4_l8-8"
      },
      "outputs": [],
      "source": [
        "# This function approximates the dominant eigenvector of our matrix A.\n",
        "A = np.array([[1, 1], [2, 0]])\n",
        "\n",
        "def evect_approx1(x_0,k):\n",
        "  x = x_0\n",
        "  for i in range(k):\n",
        "    x = np.dot(A, x)\n",
        "  return x"
      ]
    },
    {
      "cell_type": "markdown",
      "metadata": {
        "id": "_jL7OuIYLa4Y"
      },
      "source": [
        "**Problem 2**"
      ]
    },
    {
      "cell_type": "code",
      "execution_count": 5,
      "metadata": {
        "id": "iKwv9UTP2wVY"
      },
      "outputs": [],
      "source": [
        "# This function approximates the dominant eigenvalue of our matrix A.\n",
        "A = np.array([[1, 1], [2, 0]])\n",
        "\n",
        "def eval_approx1(x_0,k):\n",
        "  x_j = x_0\n",
        "  x_0 = evect_approx1(x_0, k)\n",
        "  x_j = evect_approx1(x_j, k+1)\n",
        "  lam = x_j[0]/x_0[0]\n",
        "  return lam\n",
        "\n",
        "\n"
      ]
    },
    {
      "cell_type": "markdown",
      "metadata": {
        "id": "d5ifaZmSMHDw"
      },
      "source": [
        "**Problem 3**"
      ]
    },
    {
      "cell_type": "code",
      "execution_count": 6,
      "metadata": {
        "id": "s0DwJTH32wZD"
      },
      "outputs": [],
      "source": [
        "# This function approximates the dominant eigenvalue and eigenvector of our matrix A using the normalized iterative process.\n",
        "\n",
        "def norm_evect_approx1(x_0,k):\n",
        "  A = np.array([[1,1],[2,0]])\n",
        "  for j in range(k):\n",
        "    w_j = A@x_0\n",
        "    x_j = x_0\n",
        "    x_0 = w_j/np.linalg.norm(w_j)\n",
        "  val = w_j[0]/x_j[0]\n",
        "  return x_0, val"
      ]
    },
    {
      "cell_type": "markdown",
      "metadata": {
        "id": "6jMH7PXwMcuy"
      },
      "source": [
        "**Problem 4**"
      ]
    },
    {
      "cell_type": "code",
      "execution_count": 7,
      "metadata": {
        "id": "IEx679YY2wb6"
      },
      "outputs": [],
      "source": [
        "# This function approximates the dominant eigenvalue and eigenvector of an arbitrary matrix using the process described in Problem 4.\n",
        "\n",
        "def norm_approx_gen(M, x_0, k):\n",
        "  A = np.array([[1, 1], [2, 0]])\n",
        "  for j in range(k):\n",
        "    w_j = M@x_0\n",
        "    x_j = x_0\n",
        "    x_0 = w_j/np.max(np.abs(w_j))\n",
        "  val = w_j[0]/x_j[0]\n",
        "  return x_0, val"
      ]
    },
    {
      "cell_type": "markdown",
      "metadata": {
        "id": "kb9FLrTTM0sj"
      },
      "source": [
        "**Problem 5**"
      ]
    },
    {
      "cell_type": "code",
      "execution_count": 8,
      "metadata": {
        "id": "szmSRQQi2wes"
      },
      "outputs": [],
      "source": [
        "# This function approximates the dominant eigenvalue and eigenvector of an arbitrary matrix using the Rayleigh quotiend as described in Problem 5.\n",
        "\n",
        "def ray_quotient(M,x_0,k):\n",
        "  x = norm_approx_gen(M,x_0,k)[0]\n",
        "  Rx = ((M@x)@x)/(x@x)\n",
        "  return Rx"
      ]
    },
    {
      "cell_type": "markdown",
      "metadata": {
        "id": "5WB-yTRsNKib"
      },
      "source": [
        "**Problem 6**"
      ]
    },
    {
      "cell_type": "code",
      "execution_count": 9,
      "metadata": {
        "id": "MmdpSsYQ2whe"
      },
      "outputs": [],
      "source": [
        "# Replace all of the 0 values with the vectors requested in Problem 6.\n",
        "y = np.array([[3, 2, -2], [-1, 1, 4], [3, 2, -5]])\n",
        "y_0 = np.array([1, 1, 1])\n",
        "\n",
        "x_vect_3=norm_approx_gen(y, y_0, 3)[0]\n",
        "\n",
        "x_vect_4=norm_approx_gen(y, y_0, 4)[0]"
      ]
    },
    {
      "cell_type": "markdown",
      "metadata": {
        "id": "1AoEo5z6Ne0z"
      },
      "source": [
        "**Problem 7**"
      ]
    },
    {
      "cell_type": "code",
      "execution_count": 10,
      "metadata": {
        "id": "d58LBX-n2wkf"
      },
      "outputs": [],
      "source": [
        "# This function returns the number of subscribers to the different streaming services after month k.\n",
        "\n",
        "def subscriber_vals(x_0,k):\n",
        "  P = np.array([[0.7, 0.2],[0.3, 0.8]])\n",
        "  for i in range(k):\n",
        "    x_0 = P@x_0\n",
        "  return x_0"
      ]
    },
    {
      "cell_type": "markdown",
      "metadata": {
        "id": "5-V1WD9UNmZl"
      },
      "source": [
        "**Problem 8**"
      ]
    },
    {
      "cell_type": "code",
      "execution_count": 11,
      "metadata": {
        "id": "6GA_8AAF2wnY"
      },
      "outputs": [],
      "source": [
        "# Replace all of the 0 values with the value requested in Problem 8.\n",
        "\n",
        "netflix_subs6=subscriber_vals(np.array([0.6, 0.4]), 6)[1]"
      ]
    },
    {
      "cell_type": "markdown",
      "metadata": {
        "id": "8LFlkszMN4nq"
      },
      "source": [
        "**Problem 9**"
      ]
    },
    {
      "cell_type": "code",
      "execution_count": 12,
      "metadata": {
        "id": "Zy6SewX02wqp"
      },
      "outputs": [],
      "source": [
        "# Replace all of the 0 values with the matrix/vector/value requested in Problem 9.\n",
        "\n",
        "trans_matrix=np.array([[0.8, 0.5, 0.3, 0.2], [0.05, 0.2, 0.1, 0.1], [0.1, 0.1, 0.3, 0.1], [0.05, 0.2, 0.3, 0.6]])"
      ]
    },
    {
      "cell_type": "markdown",
      "metadata": {
        "id": "bAO57Q_PGt-R"
      },
      "source": [
        "**STOP!  BEFORE YOU SUBMIT THIS LAB:**  Go to the \"Runtime\" menu at the top of this page, and select \"Restart and run all\".  If any of the cells produce error messages, you will either need to fix the error(s) or delete the code that is causing the error(s).  Then use \"Restart and run all\" again to see if there are any new errors.  Repeat this until no new error messages show up.   "
      ]
    },
    {
      "cell_type": "markdown",
      "metadata": {
        "id": "CG2Gju8CGxZU"
      },
      "source": [
        "**You are not ready to submit until you are able to select \"Restart and run all\" without any new error messages showing up.  Your code will not be able to be graded if there are any error messages.**"
      ]
    },
    {
      "cell_type": "markdown",
      "metadata": {
        "id": "i7JEWV-dm6QR"
      },
      "source": [
        "To submit your lab for grading you must first download it to your compute as .py file. In the \"File\" menu select \"Download .py\". The resulting file can then be uploaded to [gradescope.com](https://gradescope.com) for grading."
      ]
    }
  ],
  "metadata": {
    "colab": {
      "include_colab_link": true,
      "provenance": []
    },
    "kernelspec": {
      "display_name": "Python 3",
      "name": "python3"
    },
    "language_info": {
      "codemirror_mode": {
        "name": "ipython",
        "version": 3
      },
      "file_extension": ".py",
      "mimetype": "text/x-python",
      "name": "python",
      "nbconvert_exporter": "python",
      "pygments_lexer": "ipython3",
      "version": "3.11.8"
    }
  },
  "nbformat": 4,
  "nbformat_minor": 0
}
