{
  "cells": [
    {
      "cell_type": "markdown",
      "metadata": {
        "colab_type": "text",
        "id": "view-in-github"
      },
      "source": [
        "<a href=\"https://colab.research.google.com/github/sammothxc/math215-w24/blob/main/labs/LU_decompositions.ipynb\" target=\"_parent\"><img src=\"https://colab.research.google.com/assets/colab-badge.svg\" alt=\"Open In Colab\"/></a>"
      ]
    },
    {
      "cell_type": "markdown",
      "metadata": {
        "id": "qEJhOZ51lG2W"
      },
      "source": [
        "#**Lab 5 - LU decompositions and Gaussian elimination**"
      ]
    },
    {
      "cell_type": "markdown",
      "metadata": {
        "id": "y0oQ0MWSlwfG"
      },
      "source": [
        "Enter your code in the spaces provided. Do not change any of the variable names or function names that are already provided for you. In places where we specify the name of the return value, make sure that your code produces the a value with the correct name."
      ]
    },
    {
      "cell_type": "code",
      "execution_count": 1,
      "metadata": {
        "id": "UyLKhewcUu6m"
      },
      "outputs": [],
      "source": [
        "# Do not edit this cell.\n",
        "\n",
        "LabID=\"Lab5\"\n",
        "\n",
        "try:\n",
        "  from graderHelp import ISGRADEPLOT\n",
        "except ImportError:\n",
        "  ISGRADEPLOT = True"
      ]
    },
    {
      "cell_type": "markdown",
      "metadata": {
        "id": "CGHZ14CWl0sS"
      },
      "source": [
        "**Enter your name, section number, and BYU NetID**"
      ]
    },
    {
      "cell_type": "code",
      "execution_count": 2,
      "metadata": {
        "id": "knzMO488lOPx"
      },
      "outputs": [],
      "source": [
        "# Enter your first and last names in between the quotation marks.\n",
        "\n",
        "first_name=\"Sam\"\n",
        "\n",
        "last_name=\"Warr\"\n",
        "\n",
        "# Enter your Math 215 section number in between the quotation marks.\n",
        "\n",
        "section_number=\"01\"\n",
        "\n",
        "# Enter your BYU NetID in between the quotation marks.  NOT YOUR BYU ID NUMBER!\n",
        "\n",
        "BYUNetID=\"warrior8\""
      ]
    },
    {
      "cell_type": "markdown",
      "metadata": {
        "id": "sXLH1s6F6et4"
      },
      "source": [
        "**Import NumPy**"
      ]
    },
    {
      "cell_type": "code",
      "execution_count": 3,
      "metadata": {
        "id": "EjD80ENR6g6A"
      },
      "outputs": [],
      "source": [
        "import numpy as np"
      ]
    },
    {
      "cell_type": "markdown",
      "metadata": {
        "id": "8TbgwXGZmETs"
      },
      "source": [
        "**Problem 1**"
      ]
    },
    {
      "cell_type": "code",
      "execution_count": 4,
      "metadata": {
        "id": "dzudpi4_l8-8"
      },
      "outputs": [],
      "source": [
        "def augment(A,b):\n",
        "  # Put your code here.\n",
        "  return np.concatenate((A, b[:, np.newaxis]), axis=1)"
      ]
    },
    {
      "cell_type": "markdown",
      "metadata": {
        "id": "5KJ4X0qgmW52"
      },
      "source": [
        "**Problem 2**"
      ]
    },
    {
      "cell_type": "code",
      "execution_count": 5,
      "metadata": {
        "id": "cUMtfns0mWCc"
      },
      "outputs": [],
      "source": [
        "def first_column_zeros(A):\n",
        "  B=np.copy(A)\n",
        "  # Put your code here.\n",
        "  B = np.copy(A)\n",
        "  for i in range(1, B.shape[0]):\n",
        "    factor = -B[i, 0] / B[0, 0]\n",
        "    B[i] += factor * B[0]\n",
        "  return B # Put your return value here."
      ]
    },
    {
      "cell_type": "markdown",
      "metadata": {
        "id": "3gFdGK5_m_iw"
      },
      "source": [
        "**Problem 3**"
      ]
    },
    {
      "cell_type": "code",
      "execution_count": 6,
      "metadata": {
        "id": "dEt45tv6m6l2"
      },
      "outputs": [],
      "source": [
        "def row_echelon(A,b):\n",
        "  # Put your code here.\n",
        "  Ab = np.column_stack((A, b))\n",
        "  num_rows, num_cols = Ab.shape\n",
        "  for i in range(num_rows):\n",
        "    pivot_row = i\n",
        "    while pivot_row < num_rows and Ab[pivot_row, i] == 0:\n",
        "      pivot_row += 1\n",
        "    Ab[[i, pivot_row]] = Ab[[pivot_row, i]]  \n",
        "    Ab[i] /= Ab[i, i]   \n",
        "    for j in range(i + 1, num_rows):\n",
        "      Ab[j] -= Ab[i] * Ab[j, i]\n",
        "  return Ab # Put your return value here."
      ]
    },
    {
      "cell_type": "markdown",
      "metadata": {
        "id": "GD3rR1rmngih"
      },
      "source": [
        "**Problem 4**"
      ]
    },
    {
      "cell_type": "code",
      "execution_count": 7,
      "metadata": {
        "id": "Wun2LuScnf86"
      },
      "outputs": [],
      "source": [
        "def LU_decomposition(A):\n",
        "  n = len(A)\n",
        "  L = np.eye(n)  # Initialize L as the identity matrix\n",
        "  U = np.zeros((n, n))  # Initialize U as an empty matrix\n",
        "\n",
        "  for j in range(n):\n",
        "    # Compute the entries of U\n",
        "    if j == 0:\n",
        "      U[0] = A[0]\n",
        "    else:\n",
        "      for i in range(j, n):\n",
        "        U[j, i] = A[j, i] - np.dot(L[j, :j], U[:j, i])\n",
        "\n",
        "    # Compute the entries of L\n",
        "    for i in range(j + 1, n):\n",
        "      L[i, j] = (A[i, j] - np.dot(L[i, :j], U[:j, j])) / U[j, j]\n",
        "  return L, U"
      ]
    },
    {
      "cell_type": "markdown",
      "metadata": {
        "id": "LhCNjC6CoLgr"
      },
      "source": [
        "**Problem 5**"
      ]
    },
    {
      "cell_type": "code",
      "execution_count": 8,
      "metadata": {
        "id": "z8cXXktXfGKi"
      },
      "outputs": [],
      "source": [
        "def forward_substitution(L, b):\n",
        "  n = len(L)\n",
        "  y = np.zeros(n)\n",
        "\n",
        "  # Loop through each row of L\n",
        "  for i in range(n):\n",
        "    # Compute y[i]\n",
        "    y[i] = b[i] - np.dot(L[i, :i], y[:i])\n",
        "\n",
        "  return y"
      ]
    },
    {
      "cell_type": "markdown",
      "metadata": {
        "id": "iJL0cSqZiQjH"
      },
      "source": [
        "**Problem 6**"
      ]
    },
    {
      "cell_type": "code",
      "execution_count": 9,
      "metadata": {
        "id": "6LJ5JLzfiQai"
      },
      "outputs": [],
      "source": [
        "def back_substitution(U, y):\n",
        "    n = len(U)\n",
        "    x = np.zeros(n)\n",
        "\n",
        "    # Loop through each row of U in reverse order\n",
        "    for i in range(n - 1, -1, -1):\n",
        "        # Compute x[i]\n",
        "        x[i] = (y[i] - np.dot(U[i, i + 1:], x[i + 1:])) / U[i, i]\n",
        "\n",
        "    return x"
      ]
    },
    {
      "cell_type": "markdown",
      "metadata": {
        "id": "2Tx7g_driMNS"
      },
      "source": [
        "**Problem 7**"
      ]
    },
    {
      "cell_type": "code",
      "execution_count": 10,
      "metadata": {
        "id": "zbGvfgyFoB48"
      },
      "outputs": [],
      "source": [
        "def LU_solver(A, b):\n",
        "    L, U = LU_decomposition(A)\n",
        "    y = forward_substitution(L, b)\n",
        "    x = back_substitution(U, y)\n",
        "    return x"
      ]
    },
    {
      "cell_type": "markdown",
      "metadata": {
        "id": "CeTKOgpv7DWs"
      },
      "source": [
        "**STOP!  BEFORE YOU SUBMIT THIS LAB:**  Go to the \"Runtime\" menu at the top of this page, and select \"Restart and run all\".  If any of the cells produce error messages, you will either need to fix the error(s) or delete the code that is causing the error(s).  Then use \"Restart and run all\" again to see if there are any new errors.  Repeat this until no new error messages show up.   "
      ]
    },
    {
      "cell_type": "markdown",
      "metadata": {
        "id": "80COE0bF7JGu"
      },
      "source": [
        "**You are not ready to submit until you are able to select \"Restart and run all\" without any new error messages showing up.  Your code will not be able to be graded if there are any error messages.**"
      ]
    },
    {
      "cell_type": "markdown",
      "metadata": {
        "id": "aYrvCGC0msYu"
      },
      "source": [
        "To submit your lab for grading you must first download it to your compute as .py file. In the \"File\" menu select \"Download .py\". The resulting file can then be uploaded to [gradescope.com](https://gradescope.com) for grading."
      ]
    }
  ],
  "metadata": {
    "colab": {
      "include_colab_link": true,
      "provenance": []
    },
    "kernelspec": {
      "display_name": "Python 3",
      "name": "python3"
    },
    "language_info": {
      "codemirror_mode": {
        "name": "ipython",
        "version": 3
      },
      "file_extension": ".py",
      "mimetype": "text/x-python",
      "name": "python",
      "nbconvert_exporter": "python",
      "pygments_lexer": "ipython3",
      "version": "3.11.7"
    }
  },
  "nbformat": 4,
  "nbformat_minor": 0
}
