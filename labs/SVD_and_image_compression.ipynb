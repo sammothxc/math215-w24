{
  "nbformat": 4,
  "nbformat_minor": 0,
  "metadata": {
    "colab": {
      "provenance": [],
      "include_colab_link": true
    },
    "kernelspec": {
      "name": "python3",
      "display_name": "Python 3"
    }
  },
  "cells": [
    {
      "cell_type": "markdown",
      "metadata": {
        "id": "view-in-github",
        "colab_type": "text"
      },
      "source": [
        "<a href=\"https://colab.research.google.com/github/sammothxc/math215-w24/blob/main/labs/SVD_and_image_compression.ipynb\" target=\"_parent\"><img src=\"https://colab.research.google.com/assets/colab-badge.svg\" alt=\"Open In Colab\"/></a>"
      ]
    },
    {
      "cell_type": "markdown",
      "metadata": {
        "id": "qEJhOZ51lG2W"
      },
      "source": [
        "#**Lab 13 - Singular value decompositions and image compression**"
      ]
    },
    {
      "cell_type": "markdown",
      "metadata": {
        "id": "y0oQ0MWSlwfG"
      },
      "source": [
        "Enter your code in the spaces provided. Do not change any of the variable names or function names that are already provided for you. In places where we specify the name of the return value, make sure that your code produces the a value with the correct name."
      ]
    },
    {
      "cell_type": "code",
      "metadata": {
        "id": "TpV7g0HFP1Pi"
      },
      "source": [
        "# Do not edit this cell.\n",
        "\n",
        "LabID=\"Lab13\"\n",
        "\n",
        "try:\n",
        "  from graderHelp import ISGRADEPLOT\n",
        "except ImportError:\n",
        "  ISGRADEPLOT = True"
      ],
      "execution_count": null,
      "outputs": []
    },
    {
      "cell_type": "markdown",
      "metadata": {
        "id": "CGHZ14CWl0sS"
      },
      "source": [
        "**Enter your name, section number, and BYU NetID**"
      ]
    },
    {
      "cell_type": "code",
      "metadata": {
        "id": "knzMO488lOPx"
      },
      "source": [
        "# Enter your first and last names in between the quotation marks.\n",
        "\n",
        "first_name=\"Your first name goes here\"\n",
        "\n",
        "last_name=\"Your last name goes here\"\n",
        "\n",
        "# Enter your Math 215 section number in between the quotation marks.\n",
        "\n",
        "section_number=\"Your Math 215 section number goes here\"\n",
        "\n",
        "# Enter your BYU NetID in between the quotation marks.  NOT YOUR BYU ID NUMBER!\n",
        "\n",
        "BYUNetID=\"Your BYU NetID goes here\""
      ],
      "execution_count": null,
      "outputs": []
    },
    {
      "cell_type": "markdown",
      "metadata": {
        "id": "ADLuopPUdGk8"
      },
      "source": [
        "**Import the required packages**"
      ]
    },
    {
      "cell_type": "code",
      "metadata": {
        "id": "3-H-gsfndJZw"
      },
      "source": [
        "import numpy as np\n",
        "import matplotlib.pyplot as plt"
      ],
      "execution_count": null,
      "outputs": []
    },
    {
      "cell_type": "markdown",
      "metadata": {
        "id": "vgeFcnsIQDyY"
      },
      "source": [
        "**Problem 1**"
      ]
    },
    {
      "cell_type": "code",
      "metadata": {
        "id": "JsbQD_hKbNRd"
      },
      "source": [
        "# This function accepts integers m and n, and an array of singular values s and returns the Sigma matrix.\n",
        "\n",
        "def sigma(m,n,s):\n",
        "  # Put your code here.\n",
        "  return # Put your return value here."
      ],
      "execution_count": null,
      "outputs": []
    },
    {
      "cell_type": "markdown",
      "metadata": {
        "id": "WuZD6sz2exST"
      },
      "source": [
        "**Problem 2**"
      ]
    },
    {
      "cell_type": "code",
      "metadata": {
        "id": "6fWcunLfexfM"
      },
      "source": [
        "# This function accepts arrays u,s, and v_t, and returns the corresponing array A.\n",
        "\n",
        "def reconstructed_array(u,s,v_t):\n",
        "  # Put your code here.\n",
        "  return # Put your return value here."
      ],
      "execution_count": null,
      "outputs": []
    },
    {
      "cell_type": "markdown",
      "metadata": {
        "id": "nZi1mePHqW2s"
      },
      "source": [
        "**Problem 3**"
      ]
    },
    {
      "cell_type": "code",
      "metadata": {
        "id": "XuN2M8g1qXBk"
      },
      "source": [
        "# This function accepts an array A and an integer k, and returns a rank k approximation of A as computed by an SVD.\n",
        "\n",
        "def lower_rank(A,k):\n",
        "  # Put your code here.\n",
        "  return # Put your return value here."
      ],
      "execution_count": null,
      "outputs": []
    },
    {
      "cell_type": "markdown",
      "metadata": {
        "id": "pqcL6zyuZn0E"
      },
      "source": [
        "**Downloading image data**"
      ]
    },
    {
      "cell_type": "markdown",
      "metadata": {
        "id": "rtSwRZ_5z32G"
      },
      "source": [
        "The simplest way to load the image into Colab is to first download it as a .png file to your local computer by clicking the link\n",
        "\n",
        "https://drive.google.com/uc?export=download&id=1hlAEhTsqfvYX3aGFgRgFJF_gO-U5c0gH\n",
        "\n",
        "This will allow you to download the image as a .png file.  In the top left corner of this screen you should see a little file folder icon.   Selecting it opens a new window to the left of the notebook with three tabs: \"Upload\", \"Refresh\", and \"Mount Drive\". Select \"Upload\".  This should bring up a window that allows you to select the file \"Lab13Image.png\" from your local machine, which will upload the file to your notebook.  You will need to do this again if you decide to close your notebook and reopen it at a later time."
      ]
    },
    {
      "cell_type": "markdown",
      "metadata": {
        "id": "3a5OMZSl0cPB"
      },
      "source": [
        "**Import the image and convert it to an array**"
      ]
    },
    {
      "cell_type": "markdown",
      "metadata": {
        "id": "t3w7nJVO13mz"
      },
      "source": [
        "The following cell imports the png image and creates two arrays.  The first array is a 3-dimensional array, which you can think of as three matrices, each of which describes one of three colors for the image (red, green, and blue).  The second line of the cell converts the image to grayscale, which can be represented by a single matrix, whose entries range between 0 and 1 and represent how dark or bright the corresponding pixel should be."
      ]
    },
    {
      "cell_type": "code",
      "metadata": {
        "id": "rfNIRgrY0i01"
      },
      "source": [
        "import skimage\n",
        "from skimage import io\n",
        "\n",
        "RGB_array = io.imread('Lab13Image.png')\n",
        "gray_array=skimage.color.rgb2gray(skimage.color.rgba2rgb(RGB_array))"
      ],
      "execution_count": null,
      "outputs": []
    },
    {
      "cell_type": "markdown",
      "metadata": {
        "id": "aDgaW7i_Z1qB"
      },
      "source": [
        "The following functions can be used to display the color image and grayscale image respectively.\n",
        "\n",
        "IMPORTANT NOTE: The auto-grading website will give you an error message if the file you submit contains calls to either of these functions. You can leave the function definitions for show_color and show_gray here, but make sure to delete any calls to these functions before you submit your lab for grading. (You can also copy them to your practice notebook to use them there.)"
      ]
    },
    {
      "cell_type": "code",
      "metadata": {
        "id": "0KhmGfx607Dz"
      },
      "source": [
        "def show_color(array):\n",
        "  plt.figure(figsize=(10,10))\n",
        "  plt.grid(None)\n",
        "  plt.imshow(array)\n",
        "  return None\n",
        "\n",
        "def show_gray(array):\n",
        "  plt.figure(figsize=(10,10))\n",
        "  plt.grid(None)\n",
        "  plt.imshow(array,cmap='gray',vmin=0,vmax=1)\n",
        "  return None"
      ],
      "execution_count": null,
      "outputs": []
    },
    {
      "cell_type": "markdown",
      "metadata": {
        "id": "EFNMU14pbS5O"
      },
      "source": [
        " **Problem 4**"
      ]
    },
    {
      "cell_type": "code",
      "metadata": {
        "id": "fUYo4iQUQWEf"
      },
      "source": [
        "# Save the value you obtain in Problem 4 as the variable original_size.\n",
        "\n",
        "original_size=0"
      ],
      "execution_count": null,
      "outputs": []
    },
    {
      "cell_type": "markdown",
      "metadata": {
        "id": "Jae53k-cuMRm"
      },
      "source": [
        "**Problem 5**"
      ]
    },
    {
      "cell_type": "code",
      "metadata": {
        "id": "ElPmu4r7uMaq"
      },
      "source": [
        "# Place your plot for Problem 5 here.\n",
        "\n"
      ],
      "execution_count": null,
      "outputs": []
    },
    {
      "cell_type": "markdown",
      "metadata": {
        "id": "x7TJWzgzy6bP"
      },
      "source": [
        "**Problem 6**"
      ]
    },
    {
      "cell_type": "code",
      "metadata": {
        "id": "D7LeD6Fhy6l8"
      },
      "source": [
        "# Save the value you obtain in Problem 6 as the variable min_rank.\n",
        "\n",
        "min_rank=0"
      ],
      "execution_count": null,
      "outputs": []
    },
    {
      "cell_type": "markdown",
      "metadata": {
        "id": "n_xE6qVU43PS"
      },
      "source": [
        "**Problem 7**"
      ]
    },
    {
      "cell_type": "code",
      "metadata": {
        "id": "kA8bvBcT43bc"
      },
      "source": [
        "# Save the values you obtain in Problem 7 as the variables rank_100_size and relative_size.\n",
        "\n",
        "rank_100_size=0\n",
        "\n",
        "relative_size=0"
      ],
      "execution_count": null,
      "outputs": []
    },
    {
      "cell_type": "markdown",
      "metadata": {
        "id": "V1PhGUHCQHtV"
      },
      "source": [
        "**STOP!  BEFORE YOU SUBMIT THIS LAB:**  Go to the \"Runtime\" menu at the top of this page, and select \"Restart and run all\".  If any of the cells produce error messages, you will either need to fix the error(s) or delete the code that is causing the error(s).  Then use \"Restart and run all\" again to see if there are any new errors.  Repeat this until no new error messages show up.  "
      ]
    },
    {
      "cell_type": "markdown",
      "metadata": {
        "id": "DK7QUGzLQLEe"
      },
      "source": [
        "**You are not ready to submit until you are able to select \"Restart and run all\" without any new error messages showing up.  Your code will not be able to be graded if there are any error messages.**"
      ]
    },
    {
      "cell_type": "markdown",
      "metadata": {
        "id": "NLFIm7EbXBBZ"
      },
      "source": [
        "To submit your lab for grading you must first download it to your compute as .py file. In the \"File\" menu select \"Download .py\". The resulting file can then be uploaded to [gradescope.com](https://gradescope.com) for grading."
      ]
    }
  ]
}