{
  "cells": [
    {
      "cell_type": "markdown",
      "metadata": {
        "colab_type": "text",
        "id": "view-in-github"
      },
      "source": [
        "<a href=\"https://colab.research.google.com/github/sammothxc/math215-w24/blob/main/labs/Linear_transformations.ipynb\" target=\"_parent\"><img src=\"https://colab.research.google.com/assets/colab-badge.svg\" alt=\"Open In Colab\"/></a>"
      ]
    },
    {
      "cell_type": "markdown",
      "metadata": {
        "id": "qEJhOZ51lG2W"
      },
      "source": [
        "#**Lab 8 - Linear Transformations**"
      ]
    },
    {
      "cell_type": "markdown",
      "metadata": {
        "id": "y0oQ0MWSlwfG"
      },
      "source": [
        "Enter your code in the spaces provided. Do not change any of the variable names or function names that are already provided for you. In places where we specify the name of the return value, make sure that your code produces the a value with the correct name."
      ]
    },
    {
      "cell_type": "code",
      "execution_count": 29,
      "metadata": {
        "id": "jB8bV8PFhHxd"
      },
      "outputs": [],
      "source": [
        "# Do not edit this cell.\n",
        "\n",
        "LabID=\"Lab8\"\n",
        "\n",
        "try:\n",
        "  from graderHelp import ISGRADEPLOT\n",
        "except ImportError:\n",
        "  ISGRADEPLOT = True"
      ]
    },
    {
      "cell_type": "markdown",
      "metadata": {
        "id": "CGHZ14CWl0sS"
      },
      "source": [
        "**Enter your name, section number, and BYU NetID**"
      ]
    },
    {
      "cell_type": "code",
      "execution_count": 30,
      "metadata": {
        "id": "knzMO488lOPx"
      },
      "outputs": [],
      "source": [
        "# Enter your first and last names in between the quotation marks.\n",
        "\n",
        "first_name=\"Sam\"\n",
        "\n",
        "last_name=\"Warr\"\n",
        "\n",
        "# Enter your Math 215 section number in between the quotation marks.\n",
        "\n",
        "section_number=\"01\"\n",
        "\n",
        "# Enter your BYU NetID in between the quotation marks.  NOT YOUR BYU ID NUMBER!\n",
        "\n",
        "BYUNetID=\"warrior8\""
      ]
    },
    {
      "cell_type": "markdown",
      "metadata": {
        "id": "9Py4QSWuhVp0"
      },
      "source": [
        "**Import NumPy**"
      ]
    },
    {
      "cell_type": "code",
      "execution_count": 31,
      "metadata": {
        "id": "os3N0YEmhV7K"
      },
      "outputs": [],
      "source": [
        "import numpy as np"
      ]
    },
    {
      "cell_type": "markdown",
      "metadata": {
        "id": "vgeFcnsIQDyY"
      },
      "source": [
        "**Problem 1**"
      ]
    },
    {
      "cell_type": "code",
      "execution_count": 32,
      "metadata": {
        "id": "fUYo4iQUQWEf"
      },
      "outputs": [
        {
          "name": "stdout",
          "output_type": "stream",
          "text": [
            "[ 4 -5  2]\n"
          ]
        }
      ],
      "source": [
        "# This function reads in a vector and outputs the transformed vector Ax.\n",
        "\n",
        "def transform(x):\n",
        "    A = np.array([[2, 1], [1, -3], [0, 1]])\n",
        "    return np.dot(A, x)\n",
        "\n",
        "result = transform(np.array([1, 2]))\n",
        "print(result)"
      ]
    },
    {
      "cell_type": "markdown",
      "metadata": {
        "id": "a9dSi0jyr_uI"
      },
      "source": [
        "**Downloading and visualizing our data**"
      ]
    },
    {
      "cell_type": "markdown",
      "metadata": {
        "id": "jLk8UjresEsO"
      },
      "source": [
        "The simplest way to load the data into Colab is to first download it as a .csv file to your local computer by clicking the link\n",
        "\n",
        "https://drive.google.com/uc?export=download&id=1tWus0zXDSahrms0dl8TTV0Pl8bbWlx9j\n",
        "\n",
        "This will allow you to download the data as a .csv file. In the top left corner of this screen you should see a little file folder icon.   Selecting it opens a new window to the left of the notebook with three tabs: \"Upload\", \"Refresh\", and \"Mount Drive\". Select \"Upload\".  This should bring up a window that allows you to select the file \"cougar.csv\" from your local machine, which will upload the file to your notebook.  You will need to do this again if you decide to close your notebook and reopen it at a later time."
      ]
    },
    {
      "cell_type": "markdown",
      "metadata": {
        "id": "fjOug1ALtPt2"
      },
      "source": [
        "Once you've uploaded your file, convert it to a NumPy array called \"cougar\" by executing the following cell."
      ]
    },
    {
      "cell_type": "code",
      "execution_count": 33,
      "metadata": {
        "colab": {
          "base_uri": "https://localhost:8080/",
          "height": 51
        },
        "id": "GNhO3MUEtWtS",
        "outputId": "4c0d3c9a-1cff-49fb-e288-1192265858e1"
      },
      "outputs": [
        {
          "data": {
            "text/plain": [
              "array([[ 0.11833, -0.665  ,  0.035  , ..., -0.1    ,  0.685  , -0.51   ],\n",
              "       [-0.265  ,  0.44333, -0.84833, ...,  0.115  ,  0.31167,  0.69667]])"
            ]
          },
          "execution_count": 33,
          "metadata": {},
          "output_type": "execute_result"
        }
      ],
      "source": [
        "import pandas as pd\n",
        "from matplotlib import pyplot as plt\n",
        "\n",
        "df = pd.read_csv('cougar.csv')\n",
        "cougar=df.values\n",
        "cougar"
      ]
    },
    {
      "cell_type": "markdown",
      "metadata": {
        "id": "TsddMhLDGxAq"
      },
      "source": [
        "Now let's define a function that we can use to plot the array cougar that we've just created (or any other array of points which we'd like to visualize)."
      ]
    },
    {
      "cell_type": "code",
      "execution_count": 34,
      "metadata": {
        "id": "7JLiey4RaMeV"
      },
      "outputs": [
        {
          "data": {
            "image/png": "[encoded data removed]",
            "text/plain": [
              "<Figure size 640x480 with 1 Axes>"
            ]
          },
          "metadata": {},
          "output_type": "display_data"
        }
      ],
      "source": [
        "def showplot(H):\n",
        "  # This function displays the image produce by the collection of coordinates given in H\n",
        "  cougarplot=plt.plot(H[0,:],H[1,:],'k.',markersize=3.5)\n",
        "  plt.axis([-1.5,1.5,-1.5,1.5])\n",
        "  plt.gca().set_aspect(\"equal\")\n",
        "  plt.show()\n",
        "  return None\n",
        "\n",
        "\n",
        "# Let's test the function above by plotting the data in our NumPy array cougar\n",
        "showplot(cougar)"
      ]
    },
    {
      "cell_type": "markdown",
      "metadata": {
        "id": "k0BnpMqJHKWp"
      },
      "source": [
        "**Problem 2**"
      ]
    },
    {
      "cell_type": "code",
      "execution_count": 35,
      "metadata": {
        "id": "dzudpi4_l8-8"
      },
      "outputs": [],
      "source": [
        "# This function should take a matrix of coordinates, and output a matrix which corresponds to the image that has been stetched in the\n",
        "# horizantal direction by a factor of a and in the verticle direction by a factor of b.\n",
        "\n",
        "def stretch(image,a,b):\n",
        "  A = np.array([[a, 0], [0, b]])\n",
        "  return np.dot(A, image)"
      ]
    },
    {
      "cell_type": "code",
      "execution_count": 36,
      "metadata": {
        "id": "VyyrN06KCj6c"
      },
      "outputs": [],
      "source": [
        "# This function should take a matrix of coordinates, and output a matrix which corresponds to the image that has been sheared by a horizantal factor of a and\n",
        "# a vertical factor of b\n",
        "\n",
        "def shear(image,a,b):\n",
        "  A = np.array([[1, a], [b, 1]])\n",
        "  return np.dot(A, image)"
      ]
    },
    {
      "cell_type": "code",
      "execution_count": 46,
      "metadata": {
        "id": "vZPDbOQUC3ot"
      },
      "outputs": [],
      "source": [
        "# This function should take a matrix of coordinates, and output a matrix which corresponds to the image that has been reflected in the\n",
        "# line spanned by the vector [a,b]^T\n",
        "\n",
        "def reflect(image, a, b):\n",
        "    # Reflection transformation matrix\n",
        "    A = np.array([[(a**2-b**2)/(a**2+b**2),(2*a*b)/(a**2+b**2)],[(2*a*b)/(a**2+b**2),(b**2-a**2)/(a**2+b**2)]])\n",
        "    return np.matmul(A, image)"
      ]
    },
    {
      "cell_type": "code",
      "execution_count": 45,
      "metadata": {
        "id": "F6YUeFbnC7iz"
      },
      "outputs": [],
      "source": [
        "# This function should take a matrix of coordinates, and output a matrix which corresponds to the image that has been rotated in the\n",
        "# counterclockwise direction by an angle of theta radians.\n",
        "\n",
        "def rotate(image,theta):\n",
        "  rotation_matrix = np.array([[np.cos(theta), -np.sin(theta)], [np.sin(theta), np.cos(theta)]])\n",
        "  return np.dot(rotation_matrix, image)"
      ]
    },
    {
      "cell_type": "markdown",
      "metadata": {
        "id": "_jL7OuIYLa4Y"
      },
      "source": [
        "**Problem 3**"
      ]
    },
    {
      "cell_type": "code",
      "execution_count": 39,
      "metadata": {
        "id": "iKwv9UTP2wVY"
      },
      "outputs": [],
      "source": [
        "iden=np.array([[1,0],[0,1]]) # The identity matrix may be helpful here.\n",
        "stretch_matrix = stretch(iden, 1, 2)\n",
        "rotate_matrix = rotate(stretch_matrix, -np.pi/4)\n",
        "reflect_matrix = reflect(rotate_matrix, -2/np.sqrt(13), 3/np.sqrt(13))\n",
        "comp_matrix = stretch(reflect_matrix, 0.5, 1)"
      ]
    },
    {
      "cell_type": "markdown",
      "metadata": {
        "id": "jOs-LepsdSRb"
      },
      "source": [
        "The following code can be copied to your practice notebook and used to visualize the linear transformations in the following questions."
      ]
    },
    {
      "cell_type": "code",
      "execution_count": 40,
      "metadata": {
        "id": "sJHW0TmzdSRc"
      },
      "outputs": [],
      "source": [
        "from matplotlib import pyplot as plt\n",
        "import numpy as np\n",
        "\n",
        "def plot_transformation(mat):\n",
        "    plt.cla()\n",
        "    e1=np.array([1,0])\n",
        "    e2=np.array([0,1])\n",
        "    v3=e1+e2\n",
        "    plot_lims=abs(np.array([[0,1],mat@e1,mat@v3,mat@e2])).max()\n",
        "    trans_square=plt.Polygon([mat@e1,mat@v3,mat@e2,[0,0]],ec=(0,0,1,1),fc=(0,0,1,0.5))\n",
        "    orig_square=plt.Polygon([e1,v3,e2,[0,0]],fc=(1,0,0,0.5),ec=(1,0,0,1))\n",
        "    plt.gca().add_patch(trans_square)\n",
        "    plt.gca().add_patch(orig_square)\n",
        "    plt.axis('scaled')\n",
        "    plt.ylim(-1.05*plot_lims,1.05*plot_lims)\n",
        "    plt.xlim(-1.05*plot_lims,1.05*plot_lims)\n",
        "    ax=plt.gca()\n",
        "    ax.spines['top'].set_position(('data',0))\n",
        "    ax.spines['right'].set_position(('data',0))\n",
        "    ax.spines['bottom'].set_position(('data',0))\n",
        "    ax.spines['left'].set_position(('data',0))\n",
        "    plt.show()\n",
        "    return"
      ]
    },
    {
      "cell_type": "markdown",
      "metadata": {
        "id": "d5ifaZmSMHDw"
      },
      "source": [
        "**Problem 4**"
      ]
    },
    {
      "cell_type": "code",
      "execution_count": 41,
      "metadata": {
        "id": "Bf7gCJVudSRf"
      },
      "outputs": [],
      "source": [
        "def area(A):\n",
        "  # Unit vectors\n",
        "  e1 = np.array([1, 0])\n",
        "  e2 = np.array([0, 1])\n",
        "\n",
        "  # Transform unit vectors\n",
        "  T_e1 = np.dot(A, e1)\n",
        "  T_e2 = np.dot(A, e2)\n",
        "\n",
        "  # Lengths of transformed edges\n",
        "  length_T_e1 = np.linalg.norm(T_e1)\n",
        "  length_T_e2 = np.linalg.norm(T_e2)\n",
        "\n",
        "  # Angle between transformed edges (in radians)\n",
        "  cos_theta = np.dot(T_e1, T_e2) / (length_T_e1 * length_T_e2)\n",
        "  theta = np.arccos(cos_theta)\n",
        "\n",
        "  # Area of the parallelogram\n",
        "  area = length_T_e1 * length_T_e2 * np.sin(theta)\n",
        "  \n",
        "  return area\n"
      ]
    },
    {
      "cell_type": "markdown",
      "metadata": {
        "id": "zij3cvmC-n_k"
      },
      "source": [
        "**Problem 5**"
      ]
    },
    {
      "cell_type": "code",
      "execution_count": 42,
      "metadata": {
        "id": "xw4fhSGodSRh"
      },
      "outputs": [],
      "source": [
        "# Save the values of the determinants of the matrices A,B,C, and D from Problem 5.\n",
        "\n",
        "M = np.array([[2, 1], [-2, 4]])\n",
        "N = np.array([[3, 1], [2, -1]])\n",
        "P = np.array([[-1, 2], [-1, -1]])\n",
        "Q = np.array([[0.6, -0.5], [0.2, -0.5]])\n",
        "\n",
        "# Compute determinants\n",
        "detM = np.linalg.det(M)\n",
        "detN = np.linalg.det(N)\n",
        "detP = np.linalg.det(P)\n",
        "detQ = np.linalg.det(Q)"
      ]
    },
    {
      "cell_type": "markdown",
      "metadata": {
        "id": "GjdxOJSYLSXV"
      },
      "source": [
        "**Problem 6**"
      ]
    },
    {
      "cell_type": "code",
      "execution_count": 47,
      "metadata": {
        "id": "eWRn6t7wdSRi"
      },
      "outputs": [],
      "source": [
        "# Save the values of the matrix A and the area of the ellipse from Problem 6.\n",
        "\n",
        "a = np.array([[1.5, 1],[0.5, -2.75]])\n",
        "iden = np.array([[1, 0], [0, 1]])\n",
        "ellipse_matrix=np.matmul(a, iden)\n",
        "detA = np.linalg.det(a)\n",
        "ellipse_area = np.pi*np.abs(detA)"
      ]
    },
    {
      "cell_type": "markdown",
      "metadata": {
        "id": "gqwYTp97_WX2"
      },
      "source": [
        "**Problem 7**"
      ]
    },
    {
      "cell_type": "code",
      "execution_count": 44,
      "metadata": {
        "id": "43DiKfCldSRj"
      },
      "outputs": [],
      "source": [
        "# Save the values of the determinants of the matrices B1,B3,B6, and B0 from Problem 5.\n",
        "\n",
        "detB1=np.linalg.det(np.array([[4, 3], [2, 6]]))\n",
        "\n",
        "detB3=np.linalg.det(np.array([[1.5, 3], [2, 6]]))\n",
        "\n",
        "detB6=np.linalg.det(np.array([[1.00001, 3], [2, 6]]))\n",
        "\n",
        "detB0=np.linalg.det(np.array([[1, 3], [2, 6]]))"
      ]
    },
    {
      "cell_type": "markdown",
      "metadata": {
        "id": "By-76RQjW_FA"
      },
      "source": [
        "**STOP!  BEFORE YOU SUBMIT THIS LAB:**  Go to the \"Runtime\" menu at the top of this page, and select \"Restart and run all\".  If any of the cells produce error messages, you will either need to fix the error(s) or delete the code that is causing the error(s).  Then use \"Restart and run all\" again to see if there are any new errors.  Repeat this until no new error messages show up.  "
      ]
    },
    {
      "cell_type": "markdown",
      "metadata": {
        "id": "egrWfoOyXB89"
      },
      "source": [
        "**You are not ready to submit until you are able to select \"Restart and run all\" without any new error messages showing up. Your code will not be able to be graded if there are any error messages.**"
      ]
    },
    {
      "cell_type": "markdown",
      "metadata": {
        "id": "L2BoCt8BsgqU"
      },
      "source": [
        "To submit your lab for grading you must first download it to your compute as .py file. In the \"File\" menu select \"Download .py\". The resulting file can then be uploaded to [gradescope.com](https://gradescope.com) for grading."
      ]
    }
  ],
  "metadata": {
    "colab": {
      "include_colab_link": true,
      "provenance": []
    },
    "kernelspec": {
      "display_name": "Python 3",
      "language": "python",
      "name": "python3"
    },
    "language_info": {
      "codemirror_mode": {
        "name": "ipython",
        "version": 3
      },
      "file_extension": ".py",
      "mimetype": "text/x-python",
      "name": "python",
      "nbconvert_exporter": "python",
      "pygments_lexer": "ipython3",
      "version": "3.10.12"
    }
  },
  "nbformat": 4,
  "nbformat_minor": 0
}
