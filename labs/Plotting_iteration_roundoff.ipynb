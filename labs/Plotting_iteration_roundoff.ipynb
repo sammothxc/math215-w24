{
  "cells": [
    {
      "cell_type": "markdown",
      "metadata": {
        "id": "qEJhOZ51lG2W"
      },
      "source": [
        "#**Lab 3 - Plotting, iteration, and roundoff error**"
      ]
    },
    {
      "cell_type": "markdown",
      "metadata": {
        "id": "y0oQ0MWSlwfG"
      },
      "source": [
        "Enter your code in the spaces provided. Do not change any of the variable names or function names that are already provided for you. In places where we specify the name of the return value, make sure that your code produces the a value with the correct name."
      ]
    },
    {
      "cell_type": "code",
      "execution_count": 4,
      "metadata": {
        "id": "nHpSdb65cG_9"
      },
      "outputs": [],
      "source": [
        "# Do not edit this cell.\n",
        "\n",
        "LabID=\"Lab3\"\n",
        "\n",
        "try:\n",
        "  from graderHelp import ISGRADEPLOT\n",
        "except ImportError:\n",
        "  ISGRADEPLOT = True"
      ]
    },
    {
      "cell_type": "markdown",
      "metadata": {
        "id": "CGHZ14CWl0sS"
      },
      "source": [
        "**Enter your BYU NetID**"
      ]
    },
    {
      "cell_type": "code",
      "execution_count": 5,
      "metadata": {
        "id": "knzMO488lOPx"
      },
      "outputs": [],
      "source": [
        "# Enter your first and last names in between the quotation marks.\n",
        "\n",
        "first_name=\"Sam\"\n",
        "\n",
        "last_name=\"Warr\"\n",
        "\n",
        "# Enter your Math 215 section number in between the quotation marks.\n",
        "\n",
        "section_number=\"01\"\n",
        "\n",
        "# Enter your BYU NetID in between the quotation marks.  NOT YOUR BYU ID NUMBER!\n",
        "\n",
        "BYUNetID=\"warrior8\""
      ]
    },
    {
      "cell_type": "markdown",
      "metadata": {
        "id": "lqw1plL5q5Q8"
      },
      "source": [
        "**Import NumPy and PyPlot**"
      ]
    },
    {
      "cell_type": "code",
      "execution_count": 6,
      "metadata": {
        "id": "V02SfSEWq4hR"
      },
      "outputs": [],
      "source": [
        "import numpy as np\n",
        "from matplotlib import pyplot as plt"
      ]
    },
    {
      "cell_type": "markdown",
      "metadata": {
        "id": "8TbgwXGZmETs"
      },
      "source": [
        "**Problem 1**"
      ]
    },
    {
      "cell_type": "code",
      "execution_count": 7,
      "metadata": {
        "id": "dzudpi4_l8-8"
      },
      "outputs": [],
      "source": [
        "# Plot both functions from Problem 1 here.  Put all of your code to create the plot inside the function below.\n",
        "\n",
        "def create_plots():\n",
        "  # Put all of your code to create the plot here.\n",
        "  x=np.linspace(-2*np.pi,2*np.pi,50)\n",
        "  y=np.cos(4*x)\n",
        "  w=np.sin(x)\n",
        "  plt.plot(x,y)\n",
        "  plt.plot(x,w)\n",
        "  plt.show()\n",
        "  return None"
      ]
    },
    {
      "cell_type": "markdown",
      "metadata": {
        "id": "5KJ4X0qgmW52"
      },
      "source": [
        "**Problem 2**"
      ]
    },
    {
      "cell_type": "code",
      "execution_count": 8,
      "metadata": {
        "id": "cUMtfns0mWCc"
      },
      "outputs": [],
      "source": [
        "# Create the scatter plot from Problem 2 here.  Put all of your code to create the plot inside the function below.\n",
        "\n",
        "def create_scatter_plot():\n",
        "  # Put all of your code to create the scatter plot here.\n",
        "  x = np.random.normal(scale=1.5,size=500)\n",
        "  y = np.random.normal(scale=1,size=500)\n",
        "  plt.plot(x,y,'x',markersize=5)\n",
        "  plt.show()\n",
        "  return None"
      ]
    },
    {
      "cell_type": "markdown",
      "metadata": {
        "id": "3gFdGK5_m_iw"
      },
      "source": [
        "**Problem 3**"
      ]
    },
    {
      "cell_type": "code",
      "execution_count": 9,
      "metadata": {
        "id": "dEt45tv6m6l2"
      },
      "outputs": [],
      "source": [
        "def fact(n):\n",
        "  if n==0:\n",
        "    return 1 # Place the first part of your code here.\n",
        "  else:\n",
        "    return n*fact(n-1) # Place the remaining part of your code here."
      ]
    },
    {
      "cell_type": "markdown",
      "metadata": {
        "id": "GD3rR1rmngih"
      },
      "source": [
        "**Problem 4**"
      ]
    },
    {
      "cell_type": "code",
      "execution_count": 10,
      "metadata": {
        "id": "Wun2LuScnf86"
      },
      "outputs": [
        {
          "name": "stdout",
          "output_type": "stream",
          "text": [
            "1.79128784747792\n"
          ]
        }
      ],
      "source": [
        "def f(x):\n",
        "   return x**2 + x - 5# Input a continuous function\n",
        "\n",
        "a= 0    #    Choose a value where f(a)<0 or f(a)>0.\n",
        "b= 2    # Choose a value where f(b)>0 or f(b)<0 depending on your choice of a above.\n",
        "n= 10000    # Number of iterations you'd like to run the bisection method for.\n",
        "\n",
        "for i in range(n):\n",
        "   d = (a + b)/2\n",
        "   if f(d) < 0:\n",
        "      a = d\n",
        "   else:\n",
        "      b = d\n",
        "print(d)\n",
        "\n",
        "root = 1.79128784747792 # Replace the value -1 with your approximation to the root of f(x), correct to 12 decimal places."
      ]
    },
    {
      "cell_type": "markdown",
      "metadata": {
        "id": "MEdhRzaVnyEk"
      },
      "source": [
        "**Problem 5**"
      ]
    },
    {
      "cell_type": "code",
      "execution_count": 11,
      "metadata": {
        "id": "siicGRDxJvA-"
      },
      "outputs": [],
      "source": [
        "def g(x):\n",
        "  return x**4 - 2*x**3 - 17*x**2 + 4*x + 30 # Put your return value, i.e. the value of g(x), here.\n",
        "\n",
        "def g_prime(x):\n",
        "  return 4*x**3 - 6*x**2 - 34*x + 4 # Put your return value, i.e. the value of the derivative g'(x), here."
      ]
    },
    {
      "cell_type": "markdown",
      "metadata": {
        "id": "zcQWmdVMJvMH"
      },
      "source": [
        "**Problem 6**"
      ]
    },
    {
      "cell_type": "code",
      "execution_count": 12,
      "metadata": {
        "id": "Jwf7ivX1Jvbr"
      },
      "outputs": [],
      "source": [
        "def newtons_method(starting_guess,n):\n",
        "  # Put your code here.\n",
        "  x = starting_guess\n",
        "  for i in range(n):\n",
        "    x = x - g(x)/g_prime(x)\n",
        "  return x # Put your return value here."
      ]
    },
    {
      "cell_type": "markdown",
      "metadata": {
        "id": "6NgaI3MoJvtm"
      },
      "source": [
        "**Problem 7**"
      ]
    },
    {
      "cell_type": "code",
      "execution_count": 18,
      "metadata": {
        "id": "-alFFjs1nqIn"
      },
      "outputs": [],
      "source": [
        "def integration(m):\n",
        "  # Put your code here.\n",
        "  e = np.exp(1)\n",
        "  E = 1 - (1 / e)\n",
        "  for j in range(1,m+1):\n",
        "    E = 1 - (j*E)\n",
        "  return E # Put your return value here."
      ]
    },
    {
      "cell_type": "markdown",
      "metadata": {
        "id": "2CMDJOJjnR4I"
      },
      "source": [
        "**STOP!  BEFORE YOU SUBMIT THIS LAB:**  Go to the \"Runtime\" menu at the top of this page, and select \"Restart and run all\".  If any of the cells produce error messages, you will either need to fix the error(s) or delete the code that is causing the error(s).  Then use \"Restart and run all\" again to see if there are any new errors.  Repeat this until no new error messages show up.   "
      ]
    },
    {
      "cell_type": "markdown",
      "metadata": {
        "id": "dNABy5d3oH97"
      },
      "source": [
        "**You are not ready to submit until you are able to select \"Restart and run all\" without any new error messages showing up.  Your code will not be able to be graded if there are any error messages.**"
      ]
    },
    {
      "cell_type": "markdown",
      "metadata": {
        "id": "u8tKJKW18yyu"
      },
      "source": [
        "To submit your lab for grading you must first download it to your compute as .py file. In the \"File\" menu select \"Download .py\". The resulting file can then be uploaded to [gradescope.com](https://gradescope.com) for grading."
      ]
    }
  ],
  "metadata": {
    "colab": {
      "provenance": []
    },
    "kernelspec": {
      "display_name": "Python 3",
      "name": "python3"
    },
    "language_info": {
      "codemirror_mode": {
        "name": "ipython",
        "version": 3
      },
      "file_extension": ".py",
      "mimetype": "text/x-python",
      "name": "python",
      "nbconvert_exporter": "python",
      "pygments_lexer": "ipython3",
      "version": "3.10.12"
    }
  },
  "nbformat": 4,
  "nbformat_minor": 0
}
