{
  "cells": [
    {
      "cell_type": "markdown",
      "metadata": {
        "colab_type": "text",
        "id": "view-in-github"
      },
      "source": [
        "<a href=\"https://colab.research.google.com/github/sammothxc/math215-w24/blob/main/Iterative_methods.ipynb\" target=\"_parent\"><img src=\"https://colab.research.google.com/assets/colab-badge.svg\" alt=\"Open In Colab\"/></a>"
      ]
    },
    {
      "cell_type": "markdown",
      "metadata": {
        "id": "qEJhOZ51lG2W"
      },
      "source": [
        "#**Lab 4 - Iterative methods for solving systems of linear equations**"
      ]
    },
    {
      "cell_type": "markdown",
      "metadata": {
        "id": "y0oQ0MWSlwfG"
      },
      "source": [
        "Enter your code in the spaces provided. Do not change any of the variable names or function names that are already provided for you. In places where we specify the name of the return value, make sure that your code produces the a value with the correct name."
      ]
    },
    {
      "cell_type": "code",
      "execution_count": 1,
      "metadata": {
        "id": "UyLKhewcUu6m"
      },
      "outputs": [],
      "source": [
        "# Do not edit this cell.\n",
        "\n",
        "LabID=\"Lab4\"\n",
        "\n",
        "try:\n",
        "  from graderHelp import ISGRADEPLOT\n",
        "except ImportError:\n",
        "  ISGRADEPLOT = True"
      ]
    },
    {
      "cell_type": "markdown",
      "metadata": {
        "id": "CGHZ14CWl0sS"
      },
      "source": [
        "**Enter your name, section number, and BYU NetID**"
      ]
    },
    {
      "cell_type": "code",
      "execution_count": 2,
      "metadata": {
        "id": "knzMO488lOPx"
      },
      "outputs": [],
      "source": [
        "# Enter your first and last names in between the quotation marks.\n",
        "\n",
        "first_name=\"Sam\"\n",
        "\n",
        "last_name=\"Warr\"\n",
        "\n",
        "# Enter your Math 215 section number in between the quotation marks.\n",
        "\n",
        "section_number=\"01\"\n",
        "\n",
        "# Enter your BYU NetID in between the quotation marks.  NOT YOUR BYU ID NUMBER!\n",
        "\n",
        "BYUNetID=\"warrior8\""
      ]
    },
    {
      "cell_type": "markdown",
      "metadata": {
        "id": "8TbgwXGZmETs"
      },
      "source": [
        "**Problem 1**"
      ]
    },
    {
      "cell_type": "code",
      "execution_count": 3,
      "metadata": {
        "id": "dzudpi4_l8-8"
      },
      "outputs": [],
      "source": [
        "# Replace the values of 0 with the values you solved for in Problem 1.\n",
        "\n",
        "x_val=1\n",
        "\n",
        "y_val=1"
      ]
    },
    {
      "cell_type": "markdown",
      "metadata": {
        "id": "5KJ4X0qgmW52"
      },
      "source": [
        "**Problem 2**"
      ]
    },
    {
      "cell_type": "code",
      "execution_count": 15,
      "metadata": {
        "id": "cUMtfns0mWCc"
      },
      "outputs": [],
      "source": [
        "# Performs one iteration of the Jacobi method for system (1) applied to the point (x,y).\n",
        "\n",
        "def jacobi1_iteration(x,y):\n",
        "    # Put your code here.\n",
        "    new_x = (1/7)*(6 + y)\n",
        "    new_y = (1/5)*(x + 4)\n",
        "    new_vals = [new_x, new_y]\n",
        "    return new_vals # Your return statement should return a list of the form [new_x,new_y]"
      ]
    },
    {
      "cell_type": "markdown",
      "metadata": {
        "id": "3gFdGK5_m_iw"
      },
      "source": [
        "**Problem 3**"
      ]
    },
    {
      "cell_type": "code",
      "execution_count": 5,
      "metadata": {
        "id": "dEt45tv6m6l2"
      },
      "outputs": [],
      "source": [
        "# Performs n iterations of the Jacobi method on system (1) with starting estimate (0,0).\n",
        "\n",
        "def jacobi1_method(n):\n",
        "    x_n=0\n",
        "    y_n=0\n",
        "    for i in range(n):\n",
        "        new_vals = jacobi1_iteration(x_n, y_n)\n",
        "        x_n = new_vals[0]\n",
        "        y_n = new_vals[1]\n",
        "    # Put your code here.\n",
        "    return new_vals # Your return statement should return a list of the form [x_n,y_n]"
      ]
    },
    {
      "cell_type": "markdown",
      "metadata": {
        "id": "GD3rR1rmngih"
      },
      "source": [
        "**Problem 4**"
      ]
    },
    {
      "cell_type": "code",
      "execution_count": 6,
      "metadata": {
        "id": "Wun2LuScnf86"
      },
      "outputs": [],
      "source": [
        "# Replace the values of 0 with the values you solved for in Problem 4.\n",
        "\n",
        "n_var1=0\n",
        "\n",
        "n_var2=0"
      ]
    },
    {
      "cell_type": "markdown",
      "metadata": {
        "id": "MEdhRzaVnyEk"
      },
      "source": [
        "**Problem 5**"
      ]
    },
    {
      "cell_type": "code",
      "execution_count": 7,
      "metadata": {
        "id": "-alFFjs1nqIn"
      },
      "outputs": [],
      "source": [
        "# Performs one iteration of the Gauss-Seidel method for system (1) applied to the point (x,y).\n",
        "\n",
        "def gs1_iteration(x,y):\n",
        "    # Put your code here.\n",
        "    return # Your return statement should return a list of the form [new_x,new_y]"
      ]
    },
    {
      "cell_type": "markdown",
      "metadata": {
        "id": "ZIy-K2jFn6aX"
      },
      "source": [
        "**Problem 6**"
      ]
    },
    {
      "cell_type": "code",
      "execution_count": 8,
      "metadata": {
        "id": "wMfWsibBn5vS"
      },
      "outputs": [],
      "source": [
        "# Performs n iterations of the Gauss-Seidel method on system (1) with starting estimate (0,0).\n",
        "\n",
        "def gs1_method(n):\n",
        "    x_n=0\n",
        "    y_n=0\n",
        "    # Put your code here.\n",
        "    return # Your return statement should return a list of the form [x_n,y_n]"
      ]
    },
    {
      "cell_type": "markdown",
      "metadata": {
        "id": "LhCNjC6CoLgr"
      },
      "source": [
        "**Problem 7**"
      ]
    },
    {
      "cell_type": "code",
      "execution_count": 9,
      "metadata": {
        "id": "zbGvfgyFoB48"
      },
      "outputs": [],
      "source": [
        "# Replace the values of 0 with the values you solved for in Problem 7.\n",
        "\n",
        "n_var3=0\n",
        "\n",
        "n_var4=0"
      ]
    },
    {
      "cell_type": "markdown",
      "metadata": {
        "id": "p-USBmwsoWpQ"
      },
      "source": [
        "**Problem 8**"
      ]
    },
    {
      "cell_type": "code",
      "execution_count": 10,
      "metadata": {
        "id": "x4hb9gpmoRLd"
      },
      "outputs": [],
      "source": [
        "import numpy as np\n",
        "\n",
        "# Finds the error of the nth approximation of the solution to system (1) using the Gauss-Seidel method.\n",
        "\n",
        "def gs1_error(n):\n",
        "    # Put your code here.\n",
        "    return # Put your return statement here."
      ]
    },
    {
      "cell_type": "code",
      "execution_count": 11,
      "metadata": {
        "id": "9vUxMtd6o5_E"
      },
      "outputs": [
        {
          "data": {
            "image/png": "[encoded data removed]",
            "text/plain": [
              "<Figure size 640x480 with 1 Axes>"
            ]
          },
          "metadata": {},
          "output_type": "display_data"
        }
      ],
      "source": [
        "# The following code will construct your plot of gs1_error for you.  You don't need to change anything in this cell, simply execute it. Consider this one a freebie.\n",
        "\n",
        "# Note that you must have a function defined called gs1_error from the previous problem in order for the plot to be created.  We first import matplotlib.pyplot:\n",
        "\n",
        "import matplotlib.pyplot as plt\n",
        "\n",
        "\n",
        "\n",
        "# This command uses the function gs1_error to create a new function vect_gs1_error which will accept NumPy arrays of various sizes as input, instead of just a single number.\n",
        "\n",
        "vect_gs1_error=np.vectorize(gs1_error)\n",
        "\n",
        "\n",
        "\n",
        "# This creates a NumPy array of values of the form [0,1,2,...,48,49], similar to the np.linspace command.  The 1 in the function tells NumPy to count up by ones.\n",
        "\n",
        "n_vals=np.arange(0,50,1)\n",
        "\n",
        "\n",
        "\n",
        "# This creates the plot, and labels the axes.  See if you can determine what each command is doing.\n",
        "\n",
        "plt.title('Error of the Gauss-Seidel Method Applied to System 1')\n",
        "plt.xlabel('Number of iterations')\n",
        "plt.ylabel('Error')\n",
        "plt.plot(n_vals,vect_gs1_error(n_vals),'ro')\n",
        "plt.show()"
      ]
    },
    {
      "cell_type": "markdown",
      "metadata": {
        "id": "iGfUNpCqpNi_"
      },
      "source": [
        "**Problem 9**"
      ]
    },
    {
      "cell_type": "code",
      "execution_count": 12,
      "metadata": {
        "id": "l2wTGmUJpEYT"
      },
      "outputs": [],
      "source": [
        "# Gives one iteration of the Gauss-Seidel method for system (4) applied to the point (x,y).\n",
        "\n",
        "def gs2_iteration(x,y):\n",
        "    # Put your code here.\n",
        "    return # Your return statement should return a list of the form [new_x,new_y]\n",
        "\n",
        "\n",
        "\n",
        "\n",
        "# Performs n iterations of the Gauss-Seidel method on system (4) with starting estimate (0,0).\n",
        "\n",
        "def gs2_method(n):\n",
        "    x_n=0\n",
        "    y_n=0\n",
        "    # Put your code here.\n",
        "    return # Your return statement should return a list of the form [x_n,y_n]\n",
        "\n",
        "\n",
        "\n",
        "\n",
        "# Finds the error of the nth approximation of the solution to system (4) using the Gauss-Seidel method.\n",
        "\n",
        "def gs2_error(n):\n",
        "    # Put your code here.\n",
        "    return # Put your return statement here."
      ]
    },
    {
      "cell_type": "code",
      "execution_count": 13,
      "metadata": {
        "id": "fUZEnMx1oeuW"
      },
      "outputs": [
        {
          "data": {
            "image/png": "[encoded data removed]",
            "text/plain": [
              "<Figure size 640x480 with 1 Axes>"
            ]
          },
          "metadata": {},
          "output_type": "display_data"
        }
      ],
      "source": [
        "# The following code will construct your plot of gs2_error for you.  You don't need to change anything in this cell, simply execute it. Consider this one another freebie.\n",
        "\n",
        "# Note again that you must have a function defined called gs2_error from the previous problem in order for the plot to be created.\n",
        "\n",
        "vect_gs2_error=np.vectorize(gs2_error)\n",
        "\n",
        "n_vals=np.arange(0,50,1)\n",
        "\n",
        "plt.title('Error of the Gauss-Seidel Method Applied to System 4')\n",
        "plt.xlabel('Number of iterations')\n",
        "plt.ylabel('Error')\n",
        "plt.plot(n_vals,vect_gs2_error(n_vals),'ro')\n",
        "plt.show()"
      ]
    },
    {
      "cell_type": "markdown",
      "metadata": {
        "id": "-h49CMBRpuu0"
      },
      "source": [
        "**Problem 10**"
      ]
    },
    {
      "cell_type": "code",
      "execution_count": 14,
      "metadata": {
        "id": "5xIdyAXCpmO9"
      },
      "outputs": [],
      "source": [
        "# Gives one iteration of the Gauss-Seidel method for the final system, applied to the point (x,y,z).\n",
        "\n",
        "def gs3_iteration(x,y,z):\n",
        "    # Put your code here.\n",
        "    return # Your return statement should return a list of the form [new_x,new_y,new_z]\n",
        "\n",
        "\n",
        "\n",
        "\n",
        "# Performs n iterations of the Gauss-Seidel method on the final system with starting estimate (0,0,0).\n",
        "\n",
        "def gs3_method(n):\n",
        "    x_n=0\n",
        "    y_n=0\n",
        "    z_n=0\n",
        "    # Put your code here.\n",
        "    return # Your return statement should return a list of the form [x_n,y_n,z_n]"
      ]
    },
    {
      "cell_type": "markdown",
      "metadata": {
        "id": "3AwnjzF9VZ5e"
      },
      "source": [
        "**STOP!  BEFORE YOU SUBMIT THIS LAB:**  Go to the \"Runtime\" menu at the top of this page, and select \"Restart and run all\".  If any of the cells produce error messages, you will either need to fix the error(s) or delete the code that is causing the error(s).  Then use \"Restart and run all\" again to see if there are any new errors.  Repeat this until no new error messages show up.  "
      ]
    },
    {
      "cell_type": "markdown",
      "metadata": {
        "id": "CnAxt-bSVa2r"
      },
      "source": [
        "**You are not ready to submit until you are able to select \"Restart and run all\" without any new error messages showing up.  Your code will not be able to be graded if there are any error messages.**"
      ]
    },
    {
      "cell_type": "markdown",
      "metadata": {
        "id": "HbULBYwQg6M2"
      },
      "source": [
        "To submit your lab for grading you must first download it to your compute as .py file. In the \"File\" menu select \"Download .py\". The resulting file can then be uploaded to [gradescope.com](https://gradescope.com) for grading."
      ]
    }
  ],
  "metadata": {
    "colab": {
      "include_colab_link": true,
      "provenance": []
    },
    "kernelspec": {
      "display_name": "Python 3",
      "name": "python3"
    },
    "language_info": {
      "codemirror_mode": {
        "name": "ipython",
        "version": 3
      },
      "file_extension": ".py",
      "mimetype": "text/x-python",
      "name": "python",
      "nbconvert_exporter": "python",
      "pygments_lexer": "ipython3",
      "version": "3.10.12"
    }
  },
  "nbformat": 4,
  "nbformat_minor": 0
}
