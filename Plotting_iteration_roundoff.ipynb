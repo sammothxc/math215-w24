{
  "cells": [
    {
      "cell_type": "markdown",
      "metadata": {
        "id": "qEJhOZ51lG2W"
      },
      "source": [
        "#**Lab 3 - Plotting, iteration, and roundoff error**"
      ]
    },
    {
      "cell_type": "markdown",
      "metadata": {
        "id": "y0oQ0MWSlwfG"
      },
      "source": [
        "Enter your code in the spaces provided. Do not change any of the variable names or function names that are already provided for you. In places where we specify the name of the return value, make sure that your code produces the a value with the correct name."
      ]
    },
    {
      "cell_type": "code",
      "execution_count": 14,
      "metadata": {
        "id": "nHpSdb65cG_9"
      },
      "outputs": [],
      "source": [
        "# Do not edit this cell.\n",
        "\n",
        "LabID=\"Lab3\"\n",
        "\n",
        "try:\n",
        "  from graderHelp import ISGRADEPLOT\n",
        "except ImportError:\n",
        "  ISGRADEPLOT = True"
      ]
    },
    {
      "cell_type": "markdown",
      "metadata": {
        "id": "CGHZ14CWl0sS"
      },
      "source": [
        "**Enter your BYU NetID**"
      ]
    },
    {
      "cell_type": "code",
      "execution_count": 15,
      "metadata": {
        "id": "knzMO488lOPx"
      },
      "outputs": [],
      "source": [
        "# Enter your first and last names in between the quotation marks.\n",
        "\n",
        "first_name=\"Your first name goes here\"\n",
        "\n",
        "last_name=\"Your last name goes here\"\n",
        "\n",
        "# Enter your Math 215 section number in between the quotation marks.\n",
        "\n",
        "section_number=\"Your Math 215 section number goes here\"\n",
        "\n",
        "# Enter your BYU NetID in between the quotation marks.  NOT YOUR BYU ID NUMBER!\n",
        "\n",
        "BYUNetID=\"Your BYU NetID goes here\""
      ]
    },
    {
      "cell_type": "markdown",
      "metadata": {
        "id": "lqw1plL5q5Q8"
      },
      "source": [
        "**Import NumPy and PyPlot**"
      ]
    },
    {
      "cell_type": "code",
      "execution_count": 16,
      "metadata": {
        "id": "V02SfSEWq4hR"
      },
      "outputs": [],
      "source": [
        "import numpy as np\n",
        "from matplotlib import pyplot as plt"
      ]
    },
    {
      "cell_type": "markdown",
      "metadata": {
        "id": "8TbgwXGZmETs"
      },
      "source": [
        "**Problem 1**"
      ]
    },
    {
      "cell_type": "code",
      "execution_count": 17,
      "metadata": {
        "id": "dzudpi4_l8-8"
      },
      "outputs": [],
      "source": [
        "# Plot both functions from Problem 1 here.  Put all of your code to create the plot inside the function below.\n",
        "\n",
        "def create_plots():\n",
        "  # Put all of your code to create the plot here.\n",
        "  return None"
      ]
    },
    {
      "cell_type": "markdown",
      "metadata": {
        "id": "5KJ4X0qgmW52"
      },
      "source": [
        "**Problem 2**"
      ]
    },
    {
      "cell_type": "code",
      "execution_count": 18,
      "metadata": {
        "id": "cUMtfns0mWCc"
      },
      "outputs": [],
      "source": [
        "# Create the scatter plot from Problem 2 here.  Put all of your code to create the plot inside the function below.\n",
        "\n",
        "def create_scatter_plot():\n",
        "  # Put all of your code to create the scatter plot here.\n",
        "  return None"
      ]
    },
    {
      "cell_type": "markdown",
      "metadata": {
        "id": "3gFdGK5_m_iw"
      },
      "source": [
        "**Problem 3**"
      ]
    },
    {
      "cell_type": "code",
      "execution_count": 19,
      "metadata": {
        "id": "dEt45tv6m6l2"
      },
      "outputs": [],
      "source": [
        "def fact(n):\n",
        "  if n==0:\n",
        "    return # Place the first part of your code here.\n",
        "  else:\n",
        "    return # Place the remaining part of your code here."
      ]
    },
    {
      "cell_type": "markdown",
      "metadata": {
        "id": "GD3rR1rmngih"
      },
      "source": [
        "**Problem 4**"
      ]
    },
    {
      "cell_type": "code",
      "execution_count": 20,
      "metadata": {
        "id": "Wun2LuScnf86"
      },
      "outputs": [],
      "source": [
        "root = -1 # Replace the value -1 with your approximation to the root of f(x), correct to 12 decimal places."
      ]
    },
    {
      "cell_type": "markdown",
      "metadata": {
        "id": "MEdhRzaVnyEk"
      },
      "source": [
        "**Problem 5**"
      ]
    },
    {
      "cell_type": "code",
      "execution_count": 21,
      "metadata": {
        "id": "siicGRDxJvA-"
      },
      "outputs": [],
      "source": [
        "def g(x):\n",
        "  return # Put your return value, i.e. the value of g(x), here.\n",
        "\n",
        "def g_prime(x):\n",
        "  return # Put your return value, i.e. the value of the derivative g'(x), here."
      ]
    },
    {
      "cell_type": "markdown",
      "metadata": {
        "id": "zcQWmdVMJvMH"
      },
      "source": [
        "**Problem 6**"
      ]
    },
    {
      "cell_type": "code",
      "execution_count": 22,
      "metadata": {
        "id": "Jwf7ivX1Jvbr"
      },
      "outputs": [],
      "source": [
        "def newtons_method(starting_guess,n):\n",
        "  # Put your code here.\n",
        "  return # Put your return value here."
      ]
    },
    {
      "cell_type": "markdown",
      "metadata": {
        "id": "6NgaI3MoJvtm"
      },
      "source": [
        "**Problem 7**"
      ]
    },
    {
      "cell_type": "code",
      "execution_count": 23,
      "metadata": {
        "id": "-alFFjs1nqIn"
      },
      "outputs": [],
      "source": [
        "def integration(m):\n",
        "  # Put your code here.\n",
        "  return # Put your return value here."
      ]
    },
    {
      "cell_type": "markdown",
      "metadata": {
        "id": "2CMDJOJjnR4I"
      },
      "source": [
        "**STOP!  BEFORE YOU SUBMIT THIS LAB:**  Go to the \"Runtime\" menu at the top of this page, and select \"Restart and run all\".  If any of the cells produce error messages, you will either need to fix the error(s) or delete the code that is causing the error(s).  Then use \"Restart and run all\" again to see if there are any new errors.  Repeat this until no new error messages show up.   "
      ]
    },
    {
      "cell_type": "markdown",
      "metadata": {
        "id": "dNABy5d3oH97"
      },
      "source": [
        "**You are not ready to submit until you are able to select \"Restart and run all\" without any new error messages showing up.  Your code will not be able to be graded if there are any error messages.**"
      ]
    },
    {
      "cell_type": "markdown",
      "metadata": {
        "id": "u8tKJKW18yyu"
      },
      "source": [
        "To submit your lab for grading you must first download it to your compute as .py file. In the \"File\" menu select \"Download .py\". The resulting file can then be uploaded to [gradescope.com](https://gradescope.com) for grading."
      ]
    }
  ],
  "metadata": {
    "colab": {
      "provenance": []
    },
    "kernelspec": {
      "display_name": "Python 3",
      "name": "python3"
    },
    "language_info": {
      "codemirror_mode": {
        "name": "ipython",
        "version": 3
      },
      "file_extension": ".py",
      "mimetype": "text/x-python",
      "name": "python",
      "nbconvert_exporter": "python",
      "pygments_lexer": "ipython3",
      "version": "3.10.12"
    }
  },
  "nbformat": 4,
  "nbformat_minor": 0
}
